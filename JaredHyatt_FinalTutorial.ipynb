{
 "cells": [
  {
   "cell_type": "markdown",
   "metadata": {},
   "source": [
    "# The Aging US Congress in the Age of Technology\n",
    "\n",
    "Author: Jared Hyatt\n",
    "\n",
    "---\n",
    "\n",
    "## Introduction\n",
    "\n",
    "We live in the age of the tech companies. Companies like Apple, Google, Facebook, and Amazon are generating huge amounts of revenue and taking over their markets. Google dominates online searches, Facebook is king in social media, and Amazon drives the online retail market. This is not new information. People have known this for a while and a quick Google search (even writing that I inadvertantly wrote Google search rather than online search) will provide tons of information and articles about the growth of massive tech companies.\n",
    "\n",
    "As these companies grow and start to dominate more and more markets, other businesses are being forced to close down and in some eyes these tech companies are looking more and more like the monopolies America saw during the Industrial Revolution. And just like back then, <a href=\"https://www.wsj.com/articles/techs-titans-tiptoe-toward-monopoly-1527783845\"> some people are starting to notice</a>. People are starting to call on the government to take on these tech giants and <a href=\"http://fortune.com/2018/04/02/tech-monopolies-small-businesses-competition/\">reign them in</a>. And while this is happening, controversies like <a href=\"https://www.nytimes.com/2018/09/28/technology/facebook-hack-data-breach.html\">Facebook's data breach</a> and other data breaches are becoming more and more common. \n",
    "\n",
    "Now, there are differing opinions on the severity of these problems and how to deal with them. I will not lecture you on my opinion here, but I encourage you to read more about these issues and form your own opinons. But, regardless of your opinions on these issues a simple fact remains that we are living in an age of technology. The question becomes: is our Congress prepared to govern in this new age?   \n",
    "\n",
    "Now, as of now most people seem to agree that Congress already isn't doing a great job, given their <a href=\"https://news.gallup.com/poll/1600/congress-public.aspx\">21% approval rating</a>. But I want to look a little deeper into their knowledge of technology and why they may not be doing a great job (at least with respect to tech). There are many articles <a href=\"https://www.washingtonpost.com/news/the-switch/wp/2018/06/06/i-can-understand-about-50-percent-of-the-things-you-say-how-congress-is-struggling-to-get-smart-on-tech/?utm_term=.4ef35d1e868d\">like this one</a> that highlight how Congress is struggling to keep up with technological advancements. While there are likely many factors that contribute to why Congress lags behind in technological understanding, I want to investigate one in particular today: age. Based off of my basic (and likely biased) knowledge of Congress, it seems that most members are much older than the average American and likely grew up in a time before computers were prevalent (Note: computers only became common household items in the <a href=\"https://www.statista.com/statistics/184685/percentage-of-households-with-computer-in-the-united-states-since-1984/\">late 90s and early 2000s</a>!) Therefore, learning more about the age composition of our current Congress could be an important indicator of their understanding/exposure to technology. So today we will be analyzing the age of current and past Congress's and answering a few questions: Is Congress really older than other US industries? Are they getting older or younger? And most importantly, what is contributing to the aging of Congress?\n",
    "\n",
    "---\n",
    "\n",
    "### A Couple Notes about Congress:\n",
    "\n",
    "For those that may not know, it is useful to keep the following things in mind for the rest of the article:\n",
    "   \n",
    "   1. In order to be a member of the House of Representatives you must be at least 25\n",
    "   2. Representatives in the House serve two year terms\n",
    "   3. In order to be a member of the Senate you must be at least 30\n",
    "   4. Senators serve six year terms\n",
    "  \n",
    "---\n",
    "\n",
    "### Outline\n",
    "1. Getting Started\n",
    "    - 1.1 Required Libraries\n",
    "    - 1.2 Data Sources\n",
    "2. Processing the Data\n",
    "    - 2.1 Congressional Data\n",
    "    - 2.2 Life Expectancy Data\n",
    "    - 2.3 Industry Data\n",
    "3. Congress Compared to Other Industries\n",
    "    - 3.1 Is Congress really older?\n",
    "    - 3.2 How much older is Congress?\n",
    "4. Is Congress Aging?\n",
    "5. Why is Congress Aging?\n",
    "    - 5.1 Term Counts!\n",
    "    - 5.2 Re-Election of Incumbents\n",
    "    - 5.3 Age of Non-Incumbents Increasing?\n",
    "6. Conclusions\n",
    "7. Data Sources\n",
    "\n",
    "---\n",
    "\n",
    "## 1. Getting Started\n",
    "\n",
    "### 1.1 Required Libraries\n",
    "\n",
    "First, we import all the libraries we'll be using:\n",
    "\n",
    "- pandas: used for viewing, cleaning, and processing data\n",
    "- re - regex: regular expression library used to search strings for particular values\n",
    "- matplotlib: used for plotting data\n",
    "- seaborn: provides more capabilities for plotting data with matplotlib\n",
    "- scipy.stats: provides a variety of statistical methods and hypothesis tests\n",
    "        \n",
    "Note: we also set the number of columns and rows for pandas to dispaly to make sure we don't clog up the page with dataframes."
   ]
  },
  {
   "cell_type": "code",
   "execution_count": 1,
   "metadata": {},
   "outputs": [],
   "source": [
    "#Import all libraries we need\n",
    "import pandas as pd\n",
    "import re\n",
    "import matplotlib.pyplot as plt\n",
    "import seaborn as sns\n",
    "from scipy import stats\n",
    "\n",
    "# Set the number of rows and columns displayed in each dataframe output\n",
    "pd.set_option('display.max_rows', 10)\n",
    "pd.set_option('display.max_columns', 20)"
   ]
  },
  {
   "cell_type": "markdown",
   "metadata": {},
   "source": [
    "### 1.2 Data Sources\n",
    "\n",
    "Today we'll be using a few different sources, pulling in different data at different points during our analysis. Though I'm laying out all my sources nicely in the beginning (for the sake of brevity and easy reading), I want to be transparent and say that it took multiple iterations to figure out what data would be useful and relevant. I found one dataset, processed it, explored it a bit and realized that some other data could be very useful and restarted the whole process for the next set. That's often the way the process goes!\n",
    "\n",
    "#### Congressional Data\n",
    "\n",
    "Our main dataset is one that has detailed information on each Congressional member from the 80th Congress (1947) to the 113th Congress (2013). The dataset is provided through Five Thirty Eight's Github Page <a href=\"https://github.com/fivethirtyeight/data/tree/master/congress-age\">here</a>, which pulls the data from a variety of sources as stated on the page. The data includes the following information:\n",
    "\n",
    "- Congress Number\n",
    "- Chamber: House or Senate \n",
    "- Bioguide: See below\n",
    "- First, middle, and last name\n",
    "- Birthday\n",
    "- State\n",
    "- Party: Democrat or Republican\n",
    "- Incumbent: whether or not they were an incumbent\n",
    "- Age\n",
    "\n",
    "*Note: the \"bioguide\" column is a unique ID for each member of congress that can be used to look up information on them as detailed <a href=\"https://www.congress.gov/help/field-values/member-bioguide-ids\"> here</a>. For our application it is mostly useful as a unique identifier for different Congressmembers. We later use this to easily distinguish Congressmembers from each other (more easily than names, etc. which may have duplicates).*\n",
    "\n",
    "#### Life Expectancy Data\n",
    "\n",
    "If we are analyzing the age of a specific group over a longer period of time, it is important to adjust for life expectancy. If we found that Congressmembers were significantly older in 2000 than in 1950 that may be due to changes in life expectancy rather than people voting in older people relative to the population age. Accordingly, we include the life expectancy data to adjust for this.\n",
    "\n",
    "This data comes from the CDC and can be found at data.gov <a href=\"https://catalog.data.gov/dataset/age-adjusted-death-rates-and-life-expectancy-at-birth-all-races-both-sexes-united-sta-1900\">here</a>. The dataset is very basic and simply details the average life expectancy for each year from 1900 - 2015 by race and gender.\n",
    "\n",
    "#### Industry Data\n",
    "\n",
    "Now that we have information on the age of Congress and can account for changes in life expectancy over time we need something to compare Congress to! In order to get an idea of how Congress stacks up to the rest of America, I found information on the age of the American labor force from the <a href=\"https://www.bls.gov/cps/demographics.htm#age\">Bureau of Labor Statistics</a> from 2011 - 2017. This data details the number of workers in each major industry (and all smaller industries included in the larger industries) by age range and also gives the median worker age for each industry. Though there is a wealth of information here, we are mostly concerned with the median age of workers across different major industries, so we'll only be using this small subset of the data. \n",
    "\n",
    "---\n",
    "\n",
    "## 2. Processing the Data\n",
    "\n",
    "### 2.1 Congressional Data\n",
    "\n",
    "First, we import and view the Congressional data to see what we're dealing with. Luckily, this data is pretty clean already so there's not a lot we need to do here. "
   ]
  },
  {
   "cell_type": "code",
   "execution_count": 2,
   "metadata": {},
   "outputs": [
    {
     "data": {
      "text/html": [
       "<div>\n",
       "<style scoped>\n",
       "    .dataframe tbody tr th:only-of-type {\n",
       "        vertical-align: middle;\n",
       "    }\n",
       "\n",
       "    .dataframe tbody tr th {\n",
       "        vertical-align: top;\n",
       "    }\n",
       "\n",
       "    .dataframe thead th {\n",
       "        text-align: right;\n",
       "    }\n",
       "</style>\n",
       "<table border=\"1\" class=\"dataframe\">\n",
       "  <thead>\n",
       "    <tr style=\"text-align: right;\">\n",
       "      <th></th>\n",
       "      <th>congress</th>\n",
       "      <th>chamber</th>\n",
       "      <th>bioguide</th>\n",
       "      <th>firstname</th>\n",
       "      <th>middlename</th>\n",
       "      <th>lastname</th>\n",
       "      <th>suffix</th>\n",
       "      <th>birthday</th>\n",
       "      <th>state</th>\n",
       "      <th>party</th>\n",
       "      <th>incumbent</th>\n",
       "      <th>termstart</th>\n",
       "      <th>age</th>\n",
       "    </tr>\n",
       "  </thead>\n",
       "  <tbody>\n",
       "    <tr>\n",
       "      <th>0</th>\n",
       "      <td>80</td>\n",
       "      <td>house</td>\n",
       "      <td>M000112</td>\n",
       "      <td>Joseph</td>\n",
       "      <td>Jefferson</td>\n",
       "      <td>Mansfield</td>\n",
       "      <td>NaN</td>\n",
       "      <td>1861-02-09</td>\n",
       "      <td>TX</td>\n",
       "      <td>D</td>\n",
       "      <td>Yes</td>\n",
       "      <td>1/3/47</td>\n",
       "      <td>85.9</td>\n",
       "    </tr>\n",
       "    <tr>\n",
       "      <th>1</th>\n",
       "      <td>80</td>\n",
       "      <td>house</td>\n",
       "      <td>D000448</td>\n",
       "      <td>Robert</td>\n",
       "      <td>Lee</td>\n",
       "      <td>Doughton</td>\n",
       "      <td>NaN</td>\n",
       "      <td>1863-11-07</td>\n",
       "      <td>NC</td>\n",
       "      <td>D</td>\n",
       "      <td>Yes</td>\n",
       "      <td>1/3/47</td>\n",
       "      <td>83.2</td>\n",
       "    </tr>\n",
       "    <tr>\n",
       "      <th>2</th>\n",
       "      <td>80</td>\n",
       "      <td>house</td>\n",
       "      <td>S000001</td>\n",
       "      <td>Adolph</td>\n",
       "      <td>Joachim</td>\n",
       "      <td>Sabath</td>\n",
       "      <td>NaN</td>\n",
       "      <td>1866-04-04</td>\n",
       "      <td>IL</td>\n",
       "      <td>D</td>\n",
       "      <td>Yes</td>\n",
       "      <td>1/3/47</td>\n",
       "      <td>80.7</td>\n",
       "    </tr>\n",
       "    <tr>\n",
       "      <th>3</th>\n",
       "      <td>80</td>\n",
       "      <td>house</td>\n",
       "      <td>E000023</td>\n",
       "      <td>Charles</td>\n",
       "      <td>Aubrey</td>\n",
       "      <td>Eaton</td>\n",
       "      <td>NaN</td>\n",
       "      <td>1868-03-29</td>\n",
       "      <td>NJ</td>\n",
       "      <td>R</td>\n",
       "      <td>Yes</td>\n",
       "      <td>1/3/47</td>\n",
       "      <td>78.8</td>\n",
       "    </tr>\n",
       "    <tr>\n",
       "      <th>4</th>\n",
       "      <td>80</td>\n",
       "      <td>house</td>\n",
       "      <td>L000296</td>\n",
       "      <td>William</td>\n",
       "      <td>NaN</td>\n",
       "      <td>Lewis</td>\n",
       "      <td>NaN</td>\n",
       "      <td>1868-09-22</td>\n",
       "      <td>KY</td>\n",
       "      <td>R</td>\n",
       "      <td>No</td>\n",
       "      <td>1/3/47</td>\n",
       "      <td>78.3</td>\n",
       "    </tr>\n",
       "  </tbody>\n",
       "</table>\n",
       "</div>"
      ],
      "text/plain": [
       "   congress chamber bioguide firstname middlename   lastname suffix  \\\n",
       "0        80   house  M000112    Joseph  Jefferson  Mansfield    NaN   \n",
       "1        80   house  D000448    Robert        Lee   Doughton    NaN   \n",
       "2        80   house  S000001    Adolph    Joachim     Sabath    NaN   \n",
       "3        80   house  E000023   Charles     Aubrey      Eaton    NaN   \n",
       "4        80   house  L000296   William        NaN      Lewis    NaN   \n",
       "\n",
       "     birthday state party incumbent termstart   age  \n",
       "0  1861-02-09    TX     D       Yes    1/3/47  85.9  \n",
       "1  1863-11-07    NC     D       Yes    1/3/47  83.2  \n",
       "2  1866-04-04    IL     D       Yes    1/3/47  80.7  \n",
       "3  1868-03-29    NJ     R       Yes    1/3/47  78.8  \n",
       "4  1868-09-22    KY     R        No    1/3/47  78.3  "
      ]
     },
     "execution_count": 2,
     "metadata": {},
     "output_type": "execute_result"
    }
   ],
   "source": [
    "# Import and view data\n",
    "congress = pd.read_csv('congress-terms.csv')\n",
    "congress.head()"
   ]
  },
  {
   "cell_type": "markdown",
   "metadata": {},
   "source": [
    "One thing that could be useful for this data is to add a column that shows the year that each Congressmember started their term. To do this we use regular expressions to extract the year from the \"termstart\" column and add it as a new column."
   ]
  },
  {
   "cell_type": "code",
   "execution_count": 3,
   "metadata": {},
   "outputs": [
    {
     "data": {
      "text/html": [
       "<div>\n",
       "<style scoped>\n",
       "    .dataframe tbody tr th:only-of-type {\n",
       "        vertical-align: middle;\n",
       "    }\n",
       "\n",
       "    .dataframe tbody tr th {\n",
       "        vertical-align: top;\n",
       "    }\n",
       "\n",
       "    .dataframe thead th {\n",
       "        text-align: right;\n",
       "    }\n",
       "</style>\n",
       "<table border=\"1\" class=\"dataframe\">\n",
       "  <thead>\n",
       "    <tr style=\"text-align: right;\">\n",
       "      <th></th>\n",
       "      <th>congress</th>\n",
       "      <th>chamber</th>\n",
       "      <th>bioguide</th>\n",
       "      <th>firstname</th>\n",
       "      <th>middlename</th>\n",
       "      <th>lastname</th>\n",
       "      <th>suffix</th>\n",
       "      <th>birthday</th>\n",
       "      <th>state</th>\n",
       "      <th>party</th>\n",
       "      <th>incumbent</th>\n",
       "      <th>termstart</th>\n",
       "      <th>age</th>\n",
       "      <th>year</th>\n",
       "    </tr>\n",
       "  </thead>\n",
       "  <tbody>\n",
       "    <tr>\n",
       "      <th>0</th>\n",
       "      <td>80</td>\n",
       "      <td>house</td>\n",
       "      <td>M000112</td>\n",
       "      <td>Joseph</td>\n",
       "      <td>Jefferson</td>\n",
       "      <td>Mansfield</td>\n",
       "      <td>NaN</td>\n",
       "      <td>1861-02-09</td>\n",
       "      <td>TX</td>\n",
       "      <td>D</td>\n",
       "      <td>Yes</td>\n",
       "      <td>1/3/47</td>\n",
       "      <td>85.9</td>\n",
       "      <td>1947.0</td>\n",
       "    </tr>\n",
       "    <tr>\n",
       "      <th>1</th>\n",
       "      <td>80</td>\n",
       "      <td>house</td>\n",
       "      <td>D000448</td>\n",
       "      <td>Robert</td>\n",
       "      <td>Lee</td>\n",
       "      <td>Doughton</td>\n",
       "      <td>NaN</td>\n",
       "      <td>1863-11-07</td>\n",
       "      <td>NC</td>\n",
       "      <td>D</td>\n",
       "      <td>Yes</td>\n",
       "      <td>1/3/47</td>\n",
       "      <td>83.2</td>\n",
       "      <td>1947.0</td>\n",
       "    </tr>\n",
       "    <tr>\n",
       "      <th>2</th>\n",
       "      <td>80</td>\n",
       "      <td>house</td>\n",
       "      <td>S000001</td>\n",
       "      <td>Adolph</td>\n",
       "      <td>Joachim</td>\n",
       "      <td>Sabath</td>\n",
       "      <td>NaN</td>\n",
       "      <td>1866-04-04</td>\n",
       "      <td>IL</td>\n",
       "      <td>D</td>\n",
       "      <td>Yes</td>\n",
       "      <td>1/3/47</td>\n",
       "      <td>80.7</td>\n",
       "      <td>1947.0</td>\n",
       "    </tr>\n",
       "    <tr>\n",
       "      <th>3</th>\n",
       "      <td>80</td>\n",
       "      <td>house</td>\n",
       "      <td>E000023</td>\n",
       "      <td>Charles</td>\n",
       "      <td>Aubrey</td>\n",
       "      <td>Eaton</td>\n",
       "      <td>NaN</td>\n",
       "      <td>1868-03-29</td>\n",
       "      <td>NJ</td>\n",
       "      <td>R</td>\n",
       "      <td>Yes</td>\n",
       "      <td>1/3/47</td>\n",
       "      <td>78.8</td>\n",
       "      <td>1947.0</td>\n",
       "    </tr>\n",
       "    <tr>\n",
       "      <th>4</th>\n",
       "      <td>80</td>\n",
       "      <td>house</td>\n",
       "      <td>L000296</td>\n",
       "      <td>William</td>\n",
       "      <td>NaN</td>\n",
       "      <td>Lewis</td>\n",
       "      <td>NaN</td>\n",
       "      <td>1868-09-22</td>\n",
       "      <td>KY</td>\n",
       "      <td>R</td>\n",
       "      <td>No</td>\n",
       "      <td>1/3/47</td>\n",
       "      <td>78.3</td>\n",
       "      <td>1947.0</td>\n",
       "    </tr>\n",
       "  </tbody>\n",
       "</table>\n",
       "</div>"
      ],
      "text/plain": [
       "   congress chamber bioguide firstname middlename   lastname suffix  \\\n",
       "0        80   house  M000112    Joseph  Jefferson  Mansfield    NaN   \n",
       "1        80   house  D000448    Robert        Lee   Doughton    NaN   \n",
       "2        80   house  S000001    Adolph    Joachim     Sabath    NaN   \n",
       "3        80   house  E000023   Charles     Aubrey      Eaton    NaN   \n",
       "4        80   house  L000296   William        NaN      Lewis    NaN   \n",
       "\n",
       "     birthday state party incumbent termstart   age    year  \n",
       "0  1861-02-09    TX     D       Yes    1/3/47  85.9  1947.0  \n",
       "1  1863-11-07    NC     D       Yes    1/3/47  83.2  1947.0  \n",
       "2  1866-04-04    IL     D       Yes    1/3/47  80.7  1947.0  \n",
       "3  1868-03-29    NJ     R       Yes    1/3/47  78.8  1947.0  \n",
       "4  1868-09-22    KY     R        No    1/3/47  78.3  1947.0  "
      ]
     },
     "execution_count": 3,
     "metadata": {},
     "output_type": "execute_result"
    }
   ],
   "source": [
    "# Iterate over the dataframe and add a column that contains the year\n",
    "for i, row in congress.iterrows():\n",
    "    # Extract the year from the termstart column\n",
    "    regex = re.match('\\d{1,2}\\/\\d{1,2}\\/(\\d{2})', row['termstart'])\n",
    "    year = int(regex.groups()[0])\n",
    "    \n",
    "    # Append the correct millenium to the year and add it to the dataframe\n",
    "    if year > 40:\n",
    "        congress.at[i, 'year'] = 1900 + year\n",
    "    else:\n",
    "        congress.at[i, 'year'] = 2000 + year\n",
    "\n",
    "congress.head()"
   ]
  },
  {
   "cell_type": "markdown",
   "metadata": {},
   "source": [
    "Just like that, the Congressional data is ready for analysis."
   ]
  },
  {
   "cell_type": "markdown",
   "metadata": {},
   "source": [
    "### 2.2 Life Expectancy Data\n",
    "\n",
    "Next, we import the life expectancy data. Like the Congressional data this is pretty clean, but there are a couple things to do. We are interested in using this data simply to compare the change in the age of Congressmembers to the changing life expectancy of Americans, so we don't need to distinguish life expectancy by race or gender. Therefore, we partition the data to extract only the values we need."
   ]
  },
  {
   "cell_type": "code",
   "execution_count": 4,
   "metadata": {},
   "outputs": [
    {
     "name": "stdout",
     "output_type": "stream",
     "text": [
      "Shape: (1044, 5)\n"
     ]
    },
    {
     "data": {
      "text/html": [
       "<div>\n",
       "<style scoped>\n",
       "    .dataframe tbody tr th:only-of-type {\n",
       "        vertical-align: middle;\n",
       "    }\n",
       "\n",
       "    .dataframe tbody tr th {\n",
       "        vertical-align: top;\n",
       "    }\n",
       "\n",
       "    .dataframe thead th {\n",
       "        text-align: right;\n",
       "    }\n",
       "</style>\n",
       "<table border=\"1\" class=\"dataframe\">\n",
       "  <thead>\n",
       "    <tr style=\"text-align: right;\">\n",
       "      <th></th>\n",
       "      <th>Year</th>\n",
       "      <th>Race</th>\n",
       "      <th>Sex</th>\n",
       "      <th>Average Life Expectancy (Years)</th>\n",
       "      <th>Age-adjusted Death Rate</th>\n",
       "    </tr>\n",
       "  </thead>\n",
       "  <tbody>\n",
       "    <tr>\n",
       "      <th>0</th>\n",
       "      <td>2015</td>\n",
       "      <td>All Races</td>\n",
       "      <td>Both Sexes</td>\n",
       "      <td>NaN</td>\n",
       "      <td>733.1</td>\n",
       "    </tr>\n",
       "    <tr>\n",
       "      <th>1</th>\n",
       "      <td>2014</td>\n",
       "      <td>All Races</td>\n",
       "      <td>Both Sexes</td>\n",
       "      <td>78.9</td>\n",
       "      <td>724.6</td>\n",
       "    </tr>\n",
       "    <tr>\n",
       "      <th>2</th>\n",
       "      <td>2013</td>\n",
       "      <td>All Races</td>\n",
       "      <td>Both Sexes</td>\n",
       "      <td>78.8</td>\n",
       "      <td>731.9</td>\n",
       "    </tr>\n",
       "    <tr>\n",
       "      <th>3</th>\n",
       "      <td>2012</td>\n",
       "      <td>All Races</td>\n",
       "      <td>Both Sexes</td>\n",
       "      <td>78.8</td>\n",
       "      <td>732.8</td>\n",
       "    </tr>\n",
       "    <tr>\n",
       "      <th>4</th>\n",
       "      <td>2011</td>\n",
       "      <td>All Races</td>\n",
       "      <td>Both Sexes</td>\n",
       "      <td>78.7</td>\n",
       "      <td>741.3</td>\n",
       "    </tr>\n",
       "  </tbody>\n",
       "</table>\n",
       "</div>"
      ],
      "text/plain": [
       "   Year       Race         Sex  Average Life Expectancy (Years)  \\\n",
       "0  2015  All Races  Both Sexes                              NaN   \n",
       "1  2014  All Races  Both Sexes                             78.9   \n",
       "2  2013  All Races  Both Sexes                             78.8   \n",
       "3  2012  All Races  Both Sexes                             78.8   \n",
       "4  2011  All Races  Both Sexes                             78.7   \n",
       "\n",
       "   Age-adjusted Death Rate  \n",
       "0                    733.1  \n",
       "1                    724.6  \n",
       "2                    731.9  \n",
       "3                    732.8  \n",
       "4                    741.3  "
      ]
     },
     "execution_count": 4,
     "metadata": {},
     "output_type": "execute_result"
    }
   ],
   "source": [
    "# Import and view the data\n",
    "lifeExp = pd.read_csv('NCHS_-_Death_rates_and_life_expectancy_at_birth.csv')\n",
    "\n",
    "print(\"Shape: {}\".format(lifeExp.shape))\n",
    "lifeExp.head()"
   ]
  },
  {
   "cell_type": "markdown",
   "metadata": {},
   "source": [
    "Here we group the data by sex and race and extract only the data that is for all genders and races. Notice that the size of the dataframe has shrunk significantly."
   ]
  },
  {
   "cell_type": "code",
   "execution_count": 5,
   "metadata": {},
   "outputs": [
    {
     "name": "stdout",
     "output_type": "stream",
     "text": [
      "Shape: (116, 5)\n"
     ]
    },
    {
     "data": {
      "text/html": [
       "<div>\n",
       "<style scoped>\n",
       "    .dataframe tbody tr th:only-of-type {\n",
       "        vertical-align: middle;\n",
       "    }\n",
       "\n",
       "    .dataframe tbody tr th {\n",
       "        vertical-align: top;\n",
       "    }\n",
       "\n",
       "    .dataframe thead th {\n",
       "        text-align: right;\n",
       "    }\n",
       "</style>\n",
       "<table border=\"1\" class=\"dataframe\">\n",
       "  <thead>\n",
       "    <tr style=\"text-align: right;\">\n",
       "      <th></th>\n",
       "      <th>Year</th>\n",
       "      <th>Race</th>\n",
       "      <th>Sex</th>\n",
       "      <th>Average Life Expectancy (Years)</th>\n",
       "      <th>Age-adjusted Death Rate</th>\n",
       "    </tr>\n",
       "  </thead>\n",
       "  <tbody>\n",
       "    <tr>\n",
       "      <th>0</th>\n",
       "      <td>2015</td>\n",
       "      <td>All Races</td>\n",
       "      <td>Both Sexes</td>\n",
       "      <td>NaN</td>\n",
       "      <td>733.1</td>\n",
       "    </tr>\n",
       "    <tr>\n",
       "      <th>1</th>\n",
       "      <td>2014</td>\n",
       "      <td>All Races</td>\n",
       "      <td>Both Sexes</td>\n",
       "      <td>78.9</td>\n",
       "      <td>724.6</td>\n",
       "    </tr>\n",
       "    <tr>\n",
       "      <th>2</th>\n",
       "      <td>2013</td>\n",
       "      <td>All Races</td>\n",
       "      <td>Both Sexes</td>\n",
       "      <td>78.8</td>\n",
       "      <td>731.9</td>\n",
       "    </tr>\n",
       "    <tr>\n",
       "      <th>3</th>\n",
       "      <td>2012</td>\n",
       "      <td>All Races</td>\n",
       "      <td>Both Sexes</td>\n",
       "      <td>78.8</td>\n",
       "      <td>732.8</td>\n",
       "    </tr>\n",
       "    <tr>\n",
       "      <th>4</th>\n",
       "      <td>2011</td>\n",
       "      <td>All Races</td>\n",
       "      <td>Both Sexes</td>\n",
       "      <td>78.7</td>\n",
       "      <td>741.3</td>\n",
       "    </tr>\n",
       "  </tbody>\n",
       "</table>\n",
       "</div>"
      ],
      "text/plain": [
       "   Year       Race         Sex  Average Life Expectancy (Years)  \\\n",
       "0  2015  All Races  Both Sexes                              NaN   \n",
       "1  2014  All Races  Both Sexes                             78.9   \n",
       "2  2013  All Races  Both Sexes                             78.8   \n",
       "3  2012  All Races  Both Sexes                             78.8   \n",
       "4  2011  All Races  Both Sexes                             78.7   \n",
       "\n",
       "   Age-adjusted Death Rate  \n",
       "0                    733.1  \n",
       "1                    724.6  \n",
       "2                    731.9  \n",
       "3                    732.8  \n",
       "4                    741.3  "
      ]
     },
     "execution_count": 5,
     "metadata": {},
     "output_type": "execute_result"
    }
   ],
   "source": [
    "# Group by sex and race and select only the data we want\n",
    "lifeExp = lifeExp.groupby('Sex').get_group('Both Sexes')\n",
    "lifeExp = lifeExp.groupby('Race').get_group('All Races')\n",
    "\n",
    "# View the new dataframe\n",
    "print(\"Shape: {}\".format(lifeExp.shape))\n",
    "lifeExp.head()"
   ]
  },
  {
   "cell_type": "markdown",
   "metadata": {},
   "source": [
    "Once we've extracted only the data we need, we drop the race, sex, and age-adjusted death rate columns since we will not be using them. Finally, we set the index to the \"year\" column to make extracting the life expectancy easier. We also drop all life expextancy data prior to 1947 to make comparisons between the Congressional and Life Expectancy data easier"
   ]
  },
  {
   "cell_type": "code",
   "execution_count": 6,
   "metadata": {},
   "outputs": [
    {
     "name": "stdout",
     "output_type": "stream",
     "text": [
      "Shape: (69, 1)\n"
     ]
    },
    {
     "data": {
      "text/html": [
       "<div>\n",
       "<style scoped>\n",
       "    .dataframe tbody tr th:only-of-type {\n",
       "        vertical-align: middle;\n",
       "    }\n",
       "\n",
       "    .dataframe tbody tr th {\n",
       "        vertical-align: top;\n",
       "    }\n",
       "\n",
       "    .dataframe thead th {\n",
       "        text-align: right;\n",
       "    }\n",
       "</style>\n",
       "<table border=\"1\" class=\"dataframe\">\n",
       "  <thead>\n",
       "    <tr style=\"text-align: right;\">\n",
       "      <th></th>\n",
       "      <th>Average Life Expectancy (Years)</th>\n",
       "    </tr>\n",
       "    <tr>\n",
       "      <th>Year</th>\n",
       "      <th></th>\n",
       "    </tr>\n",
       "  </thead>\n",
       "  <tbody>\n",
       "    <tr>\n",
       "      <th>2015</th>\n",
       "      <td>NaN</td>\n",
       "    </tr>\n",
       "    <tr>\n",
       "      <th>2014</th>\n",
       "      <td>78.9</td>\n",
       "    </tr>\n",
       "    <tr>\n",
       "      <th>2013</th>\n",
       "      <td>78.8</td>\n",
       "    </tr>\n",
       "    <tr>\n",
       "      <th>2012</th>\n",
       "      <td>78.8</td>\n",
       "    </tr>\n",
       "    <tr>\n",
       "      <th>2011</th>\n",
       "      <td>78.7</td>\n",
       "    </tr>\n",
       "  </tbody>\n",
       "</table>\n",
       "</div>"
      ],
      "text/plain": [
       "      Average Life Expectancy (Years)\n",
       "Year                                 \n",
       "2015                              NaN\n",
       "2014                             78.9\n",
       "2013                             78.8\n",
       "2012                             78.8\n",
       "2011                             78.7"
      ]
     },
     "execution_count": 6,
     "metadata": {},
     "output_type": "execute_result"
    }
   ],
   "source": [
    "lifeExp = lifeExp.drop(['Race', 'Sex', 'Age-adjusted Death Rate'], axis=1) # Drop columns we dont need\n",
    "lifeExp = lifeExp.set_index('Year')                                        # Change the index to year\n",
    "lifeExp = lifeExp.drop(lifeExp[lifeExp.index < 1947].index)                # Drop data prior to 1947\n",
    "\n",
    "# Display the new dataframe\n",
    "print(\"Shape: {}\".format(lifeExp.shape))\n",
    "lifeExp.head()"
   ]
  },
  {
   "cell_type": "markdown",
   "metadata": {},
   "source": [
    "### 2.3 Industry Data\n",
    "\n",
    "With our other two datasets processed, we move on to the industry data. Taking a quick peek at the raw data we can see that its a mess. But luckily we are only interested in the median age of major industries to compare them to congress, so we can ignore the horrible schema and extract only the relevant information. "
   ]
  },
  {
   "cell_type": "code",
   "execution_count": 7,
   "metadata": {},
   "outputs": [
    {
     "data": {
      "text/html": [
       "<div>\n",
       "<style scoped>\n",
       "    .dataframe tbody tr th:only-of-type {\n",
       "        vertical-align: middle;\n",
       "    }\n",
       "\n",
       "    .dataframe tbody tr th {\n",
       "        vertical-align: top;\n",
       "    }\n",
       "\n",
       "    .dataframe thead th {\n",
       "        text-align: right;\n",
       "    }\n",
       "</style>\n",
       "<table border=\"1\" class=\"dataframe\">\n",
       "  <thead>\n",
       "    <tr style=\"text-align: right;\">\n",
       "      <th></th>\n",
       "      <th>HOUSEHOLD DATA\n",
       "ANNUAL AVERAGES\n",
       "11b.  Employed persons by detailed occupation and age</th>\n",
       "      <th>Unnamed: 1</th>\n",
       "      <th>Unnamed: 2</th>\n",
       "      <th>Unnamed: 3</th>\n",
       "      <th>Unnamed: 4</th>\n",
       "      <th>Unnamed: 5</th>\n",
       "      <th>Unnamed: 6</th>\n",
       "      <th>Unnamed: 7</th>\n",
       "      <th>Unnamed: 8</th>\n",
       "      <th>Unnamed: 9</th>\n",
       "    </tr>\n",
       "  </thead>\n",
       "  <tbody>\n",
       "    <tr>\n",
       "      <th>0</th>\n",
       "      <td>[Numbers in thousands]</td>\n",
       "      <td>NaN</td>\n",
       "      <td>NaN</td>\n",
       "      <td>NaN</td>\n",
       "      <td>NaN</td>\n",
       "      <td>NaN</td>\n",
       "      <td>NaN</td>\n",
       "      <td>NaN</td>\n",
       "      <td>NaN</td>\n",
       "      <td>NaN</td>\n",
       "    </tr>\n",
       "    <tr>\n",
       "      <th>1</th>\n",
       "      <td>NaN</td>\n",
       "      <td>NaN</td>\n",
       "      <td>NaN</td>\n",
       "      <td>NaN</td>\n",
       "      <td>NaN</td>\n",
       "      <td>NaN</td>\n",
       "      <td>NaN</td>\n",
       "      <td>NaN</td>\n",
       "      <td>NaN</td>\n",
       "      <td>NaN</td>\n",
       "    </tr>\n",
       "    <tr>\n",
       "      <th>2</th>\n",
       "      <td>Occupation</td>\n",
       "      <td>2017</td>\n",
       "      <td>NaN</td>\n",
       "      <td>NaN</td>\n",
       "      <td>NaN</td>\n",
       "      <td>NaN</td>\n",
       "      <td>NaN</td>\n",
       "      <td>NaN</td>\n",
       "      <td>NaN</td>\n",
       "      <td>NaN</td>\n",
       "    </tr>\n",
       "    <tr>\n",
       "      <th>3</th>\n",
       "      <td>NaN</td>\n",
       "      <td>Total, 16\\nyears and\\n over</td>\n",
       "      <td>16 to 19 \\nyears</td>\n",
       "      <td>20 to 24 \\nyears</td>\n",
       "      <td>25 to 34 \\nyears</td>\n",
       "      <td>35 to 44 \\nyears</td>\n",
       "      <td>45 to 54 \\nyears</td>\n",
       "      <td>55 to 64 \\nyears</td>\n",
       "      <td>65 years\\nand over</td>\n",
       "      <td>Median\\n age</td>\n",
       "    </tr>\n",
       "    <tr>\n",
       "      <th>4</th>\n",
       "      <td>NaN</td>\n",
       "      <td>NaN</td>\n",
       "      <td>NaN</td>\n",
       "      <td>NaN</td>\n",
       "      <td>NaN</td>\n",
       "      <td>NaN</td>\n",
       "      <td>NaN</td>\n",
       "      <td>NaN</td>\n",
       "      <td>NaN</td>\n",
       "      <td>NaN</td>\n",
       "    </tr>\n",
       "  </tbody>\n",
       "</table>\n",
       "</div>"
      ],
      "text/plain": [
       "  HOUSEHOLD DATA\\nANNUAL AVERAGES\\n11b.  Employed persons by detailed occupation and age  \\\n",
       "0                             [Numbers in thousands]                                       \n",
       "1                                                NaN                                       \n",
       "2                                         Occupation                                       \n",
       "3                                                NaN                                       \n",
       "4                                                NaN                                       \n",
       "\n",
       "                    Unnamed: 1        Unnamed: 2        Unnamed: 3  \\\n",
       "0                          NaN               NaN               NaN   \n",
       "1                          NaN               NaN               NaN   \n",
       "2                         2017               NaN               NaN   \n",
       "3  Total, 16\\nyears and\\n over  16 to 19 \\nyears  20 to 24 \\nyears   \n",
       "4                          NaN               NaN               NaN   \n",
       "\n",
       "         Unnamed: 4        Unnamed: 5        Unnamed: 6        Unnamed: 7  \\\n",
       "0               NaN               NaN               NaN               NaN   \n",
       "1               NaN               NaN               NaN               NaN   \n",
       "2               NaN               NaN               NaN               NaN   \n",
       "3  25 to 34 \\nyears  35 to 44 \\nyears  45 to 54 \\nyears  55 to 64 \\nyears   \n",
       "4               NaN               NaN               NaN               NaN   \n",
       "\n",
       "           Unnamed: 8    Unnamed: 9  \n",
       "0                 NaN           NaN  \n",
       "1                 NaN           NaN  \n",
       "2                 NaN           NaN  \n",
       "3  65 years\\nand over  Median\\n age  \n",
       "4                 NaN           NaN  "
      ]
     },
     "execution_count": 7,
     "metadata": {},
     "output_type": "execute_result"
    }
   ],
   "source": [
    "# Import and view the dataset\n",
    "industry_2017 = pd.read_excel('cpsaat11b_2017_unmod.xlsx')\n",
    "industry_2017.head()"
   ]
  },
  {
   "cell_type": "markdown",
   "metadata": {},
   "source": [
    "Before we read the data into pandas I did a little bit of cleaning in excel to make extracting the data easier. I deleted the top two rows to ensure the column names were meaningful and cleaned up the column label for \"Median Age\" to ensure it was the exact same across all documents. With that done we have a new, slightly cleaner dataframe:"
   ]
  },
  {
   "cell_type": "code",
   "execution_count": 8,
   "metadata": {},
   "outputs": [
    {
     "data": {
      "text/html": [
       "<div>\n",
       "<style scoped>\n",
       "    .dataframe tbody tr th:only-of-type {\n",
       "        vertical-align: middle;\n",
       "    }\n",
       "\n",
       "    .dataframe tbody tr th {\n",
       "        vertical-align: top;\n",
       "    }\n",
       "\n",
       "    .dataframe thead th {\n",
       "        text-align: right;\n",
       "    }\n",
       "</style>\n",
       "<table border=\"1\" class=\"dataframe\">\n",
       "  <thead>\n",
       "    <tr style=\"text-align: right;\">\n",
       "      <th></th>\n",
       "      <th>Industry</th>\n",
       "      <th>Total, 16\n",
       "years and\n",
       " over</th>\n",
       "      <th>16 to 19 \n",
       "years</th>\n",
       "      <th>20 to 24 \n",
       "years</th>\n",
       "      <th>25 to 34 \n",
       "years</th>\n",
       "      <th>35 to 44 \n",
       "years</th>\n",
       "      <th>45 to 54 \n",
       "years</th>\n",
       "      <th>55 to 64 \n",
       "years</th>\n",
       "      <th>65 years\n",
       "and over</th>\n",
       "      <th>Median age</th>\n",
       "    </tr>\n",
       "  </thead>\n",
       "  <tbody>\n",
       "    <tr>\n",
       "      <th>0</th>\n",
       "      <td>NaN</td>\n",
       "      <td>NaN</td>\n",
       "      <td>NaN</td>\n",
       "      <td>NaN</td>\n",
       "      <td>NaN</td>\n",
       "      <td>NaN</td>\n",
       "      <td>NaN</td>\n",
       "      <td>NaN</td>\n",
       "      <td>NaN</td>\n",
       "      <td>NaN</td>\n",
       "    </tr>\n",
       "    <tr>\n",
       "      <th>1</th>\n",
       "      <td>Total employed</td>\n",
       "      <td>153337.0</td>\n",
       "      <td>5074.0</td>\n",
       "      <td>14132.0</td>\n",
       "      <td>34439.0</td>\n",
       "      <td>31892.0</td>\n",
       "      <td>32503.0</td>\n",
       "      <td>26064.0</td>\n",
       "      <td>9234.0</td>\n",
       "      <td>42.2</td>\n",
       "    </tr>\n",
       "    <tr>\n",
       "      <th>2</th>\n",
       "      <td>NaN</td>\n",
       "      <td>NaN</td>\n",
       "      <td>NaN</td>\n",
       "      <td>NaN</td>\n",
       "      <td>NaN</td>\n",
       "      <td>NaN</td>\n",
       "      <td>NaN</td>\n",
       "      <td>NaN</td>\n",
       "      <td>NaN</td>\n",
       "      <td>NaN</td>\n",
       "    </tr>\n",
       "    <tr>\n",
       "      <th>3</th>\n",
       "      <td>Agriculture, forestry, fishing, and hunting</td>\n",
       "      <td>2454.0</td>\n",
       "      <td>92.0</td>\n",
       "      <td>176.0</td>\n",
       "      <td>422.0</td>\n",
       "      <td>439.0</td>\n",
       "      <td>464.0</td>\n",
       "      <td>463.0</td>\n",
       "      <td>399.0</td>\n",
       "      <td>47.2</td>\n",
       "    </tr>\n",
       "    <tr>\n",
       "      <th>4</th>\n",
       "      <td>Crop production</td>\n",
       "      <td>1202.0</td>\n",
       "      <td>38.0</td>\n",
       "      <td>82.0</td>\n",
       "      <td>209.0</td>\n",
       "      <td>234.0</td>\n",
       "      <td>219.0</td>\n",
       "      <td>227.0</td>\n",
       "      <td>194.0</td>\n",
       "      <td>46.9</td>\n",
       "    </tr>\n",
       "  </tbody>\n",
       "</table>\n",
       "</div>"
      ],
      "text/plain": [
       "                                      Industry  Total, 16\\nyears and\\n over  \\\n",
       "0                                          NaN                          NaN   \n",
       "1                               Total employed                     153337.0   \n",
       "2                                          NaN                          NaN   \n",
       "3  Agriculture, forestry, fishing, and hunting                       2454.0   \n",
       "4                              Crop production                       1202.0   \n",
       "\n",
       "   16 to 19 \\nyears  20 to 24 \\nyears  25 to 34 \\nyears  35 to 44 \\nyears  \\\n",
       "0               NaN               NaN               NaN               NaN   \n",
       "1            5074.0           14132.0           34439.0           31892.0   \n",
       "2               NaN               NaN               NaN               NaN   \n",
       "3              92.0             176.0             422.0             439.0   \n",
       "4              38.0              82.0             209.0             234.0   \n",
       "\n",
       "   45 to 54 \\nyears  55 to 64 \\nyears  65 years\\nand over Median age  \n",
       "0               NaN               NaN                 NaN        NaN  \n",
       "1           32503.0           26064.0              9234.0       42.2  \n",
       "2               NaN               NaN                 NaN        NaN  \n",
       "3             464.0             463.0               399.0       47.2  \n",
       "4             219.0             227.0               194.0       46.9  "
      ]
     },
     "execution_count": 8,
     "metadata": {},
     "output_type": "execute_result"
    }
   ],
   "source": [
    "# Import the altered dataset\n",
    "industry_2017 = pd.read_excel('cpsaat18b_2017.xlsx')\n",
    "industry_2017.head()"
   ]
  },
  {
   "cell_type": "markdown",
   "metadata": {},
   "source": [
    "With the CSV file cleaned up a bit, we can extract the relevant information pretty easily. First we build an empty dataframe with all the relevant years and industries that we would like to inspect. Then we simply read in each CSV file, pull the relevant information from it, and insert it into our dataframe."
   ]
  },
  {
   "cell_type": "code",
   "execution_count": 9,
   "metadata": {},
   "outputs": [
    {
     "data": {
      "text/html": [
       "<div>\n",
       "<style scoped>\n",
       "    .dataframe tbody tr th:only-of-type {\n",
       "        vertical-align: middle;\n",
       "    }\n",
       "\n",
       "    .dataframe tbody tr th {\n",
       "        vertical-align: top;\n",
       "    }\n",
       "\n",
       "    .dataframe thead th {\n",
       "        text-align: right;\n",
       "    }\n",
       "</style>\n",
       "<table border=\"1\" class=\"dataframe\">\n",
       "  <thead>\n",
       "    <tr style=\"text-align: right;\">\n",
       "      <th></th>\n",
       "      <th>year</th>\n",
       "      <th>industry</th>\n",
       "      <th>median_age</th>\n",
       "    </tr>\n",
       "  </thead>\n",
       "  <tbody>\n",
       "    <tr>\n",
       "      <th>0</th>\n",
       "      <td>2011</td>\n",
       "      <td>Agriculture, forestry, fishing, and hunting</td>\n",
       "      <td>47.1</td>\n",
       "    </tr>\n",
       "    <tr>\n",
       "      <th>1</th>\n",
       "      <td>2011</td>\n",
       "      <td>Mining, quarrying, and oil and gas extraction</td>\n",
       "      <td>41.0</td>\n",
       "    </tr>\n",
       "    <tr>\n",
       "      <th>2</th>\n",
       "      <td>2011</td>\n",
       "      <td>Construction</td>\n",
       "      <td>41.6</td>\n",
       "    </tr>\n",
       "    <tr>\n",
       "      <th>3</th>\n",
       "      <td>2011</td>\n",
       "      <td>Manufacturing</td>\n",
       "      <td>44.1</td>\n",
       "    </tr>\n",
       "    <tr>\n",
       "      <th>4</th>\n",
       "      <td>2011</td>\n",
       "      <td>Wholesale and retail trade</td>\n",
       "      <td>39.4</td>\n",
       "    </tr>\n",
       "  </tbody>\n",
       "</table>\n",
       "</div>"
      ],
      "text/plain": [
       "   year                                       industry  median_age\n",
       "0  2011    Agriculture, forestry, fishing, and hunting        47.1\n",
       "1  2011  Mining, quarrying, and oil and gas extraction        41.0\n",
       "2  2011                                   Construction        41.6\n",
       "3  2011                                  Manufacturing        44.1\n",
       "4  2011                     Wholesale and retail trade        39.4"
      ]
     },
     "execution_count": 9,
     "metadata": {},
     "output_type": "execute_result"
    }
   ],
   "source": [
    "# Enumerate the years and the major industries for which we want to extract data\n",
    "years = [2011, 2012, 2013, 2014, 2015, 2016, 2017]\n",
    "industries = ['Agriculture, forestry, fishing, and hunting', 'Mining, quarrying, and oil and gas extraction', \n",
    "           'Construction', 'Manufacturing', 'Wholesale and retail trade', 'Transportation and utilities',\n",
    "           'Information', 'Financial activities', 'Professional and business services', \n",
    "           'Education and health services', 'Leisure and hospitality', 'Other services', 'Public administration']\n",
    "\n",
    "# Create an empty dataframe from this information\n",
    "industry = pd.DataFrame(columns=['year', 'industry', 'median_age'])\n",
    "\n",
    "# Fill the dataframe with information from each file\n",
    "for year in years:\n",
    "    for ind in industries:\n",
    "        df = pd.read_excel('cpsaat18b_{}.xlsx'.format(year))\n",
    "        df = df.set_index(['Industry'])\n",
    "        industry = industry.append({'year': year, 'industry': ind, 'median_age': df.at[ind, 'Median age']}, \n",
    "                                    ignore_index=True) \n",
    "\n",
    "# Force the year to be numerical - before it had dtype object\n",
    "industry['year'] = pd.to_numeric(industry['year'])\n",
    "        \n",
    "industry.head()"
   ]
  },
  {
   "cell_type": "markdown",
   "metadata": {},
   "source": [
    "Just like that we have a nice dataframe of the **median** age of major industries from 2011 - 2017. Now that we have all our data imported and cleaned we can get started on our \n",
    "\n",
    "---\n",
    "\n",
    "## 3. Congress Compared to Other Industries\n",
    "\n",
    "### 3.1 Is Congress really older?\n",
    "\n",
    "The first question we have is whether or not Congressmembers are really older than other US industries. I'm guessing that if I asked around, the average person would say that they are, but let's see what the data has to say!\n",
    " \n",
    "First we want to throw the congressional data into our industry dataframe to make comparing Congress and other industries a bit easier. Remember, the industry data details the **median** age of the workers, not the mean. So let's retrieve the median age of Congress for each year and put it in our dataframe."
   ]
  },
  {
   "cell_type": "code",
   "execution_count": 10,
   "metadata": {},
   "outputs": [
    {
     "data": {
      "text/plain": [
       "year\n",
       "1947.0    51.3\n",
       "1949.0    50.7\n",
       "1951.0    51.8\n",
       "1953.0    52.2\n",
       "1955.0    52.4\n",
       "Name: age, dtype: float64"
      ]
     },
     "execution_count": 10,
     "metadata": {},
     "output_type": "execute_result"
    }
   ],
   "source": [
    "# Group the congressional data by chamber\n",
    "by_chamber = congress.groupby('chamber')\n",
    "\n",
    "# Retrieve each chamber (house and senate) and group each of these by year\n",
    "house_by_year = by_chamber.get_group('house').groupby('year')\n",
    "senate_by_year = by_chamber.get_group('senate').groupby('year')\n",
    "\n",
    "# Finally, retrieve the median age from each of the grouped dataframes\n",
    "house_med_age = house_by_year['age'].median()\n",
    "senate_med_age = senate_by_year['age'].median()\n",
    "\n",
    "house_med_age.head()"
   ]
  },
  {
   "cell_type": "markdown",
   "metadata": {},
   "source": [
    "As you can see, we now have a nice series/array of the median age of both the House and Senate for every year. Now let's add it into our dataframe."
   ]
  },
  {
   "cell_type": "code",
   "execution_count": 11,
   "metadata": {},
   "outputs": [
    {
     "data": {
      "text/html": [
       "<div>\n",
       "<style scoped>\n",
       "    .dataframe tbody tr th:only-of-type {\n",
       "        vertical-align: middle;\n",
       "    }\n",
       "\n",
       "    .dataframe tbody tr th {\n",
       "        vertical-align: top;\n",
       "    }\n",
       "\n",
       "    .dataframe thead th {\n",
       "        text-align: right;\n",
       "    }\n",
       "</style>\n",
       "<table border=\"1\" class=\"dataframe\">\n",
       "  <thead>\n",
       "    <tr style=\"text-align: right;\">\n",
       "      <th></th>\n",
       "      <th>year</th>\n",
       "      <th>industry</th>\n",
       "      <th>median_age</th>\n",
       "    </tr>\n",
       "  </thead>\n",
       "  <tbody>\n",
       "    <tr>\n",
       "      <th>94</th>\n",
       "      <td>2012</td>\n",
       "      <td>Senate</td>\n",
       "      <td>61.05</td>\n",
       "    </tr>\n",
       "    <tr>\n",
       "      <th>95</th>\n",
       "      <td>2013</td>\n",
       "      <td>House</td>\n",
       "      <td>57.40</td>\n",
       "    </tr>\n",
       "    <tr>\n",
       "      <th>96</th>\n",
       "      <td>2013</td>\n",
       "      <td>Senate</td>\n",
       "      <td>61.60</td>\n",
       "    </tr>\n",
       "    <tr>\n",
       "      <th>97</th>\n",
       "      <td>2014</td>\n",
       "      <td>House</td>\n",
       "      <td>57.40</td>\n",
       "    </tr>\n",
       "    <tr>\n",
       "      <th>98</th>\n",
       "      <td>2014</td>\n",
       "      <td>Senate</td>\n",
       "      <td>61.60</td>\n",
       "    </tr>\n",
       "  </tbody>\n",
       "</table>\n",
       "</div>"
      ],
      "text/plain": [
       "    year industry  median_age\n",
       "94  2012   Senate       61.05\n",
       "95  2013    House       57.40\n",
       "96  2013   Senate       61.60\n",
       "97  2014    House       57.40\n",
       "98  2014   Senate       61.60"
      ]
     },
     "execution_count": 11,
     "metadata": {},
     "output_type": "execute_result"
    }
   ],
   "source": [
    "# Iterate over each unique year in our industry dataframe and add in the House and Senate data\n",
    "for year in industry['year'].unique():\n",
    "    try:\n",
    "        # If the year is odd - there is a new congress and we append that years data\n",
    "        if year % 2 != 0: \n",
    "            industry = industry.append({'year': year, 'industry': 'House', 'median_age': house_med_age[year]}, \n",
    "                                       ignore_index=True)\n",
    "            industry = industry.append({'year': year, 'industry': 'Senate', 'median_age': senate_med_age[year]}, \n",
    "                                       ignore_index=True)\n",
    "        # If the year is even - the congress is the same as last year (Congress only changes every 2 years) and \n",
    "        # append the same data as last year\n",
    "        else:\n",
    "            industry = industry.append({'year': year, 'industry': 'House', 'median_age': house_med_age[year - 1]}, \n",
    "                                       ignore_index=True)\n",
    "            industry = industry.append({'year': year, 'industry': 'Senate', 'median_age': senate_med_age[year - 1]}, \n",
    "                                       ignore_index=True)\n",
    "    # If the data for the house and senate does not exist in our congressional dataframe then we pass\n",
    "    except:\n",
    "        pass\n",
    "    \n",
    "industry.tail()"
   ]
  },
  {
   "cell_type": "markdown",
   "metadata": {},
   "source": [
    "#### Back to Data Collection\n",
    "\n",
    "We can now see that we have a column in our industry dataframe with the median age of the House and the Senate alongside all other industries. But the data ends at 2014 and we are missing data from 2015 - 2017! That leaves us with only four datapoints for Congress (really only 2 since Congress only changes every other year) from 2011 - 2014, which isn't great. After scouring the internet I couldn't find a great estimate on the median age for the 114th and 115th Congress in 2015-2017. However, there are plenty of estimates of the average age for each congress.\n",
    "\n",
    "Luckily, we know a bit about statistics and know that the age of the senate and house is likely (hopefully) a normal distribution, which is symmetric (see more about normal distributions <a href=\"http://onlinestatbook.com/2/normal_distribution/intro.html\">here</a>). And for symmetric distributions the mean and the median are the same. So, if we can prove that the distribution is essentially normal, we can estimate the median age of Congress with the average age!\n",
    "\n",
    "To make sure Congress's age distribution is normal, we examine the past four Congress's age data. The assumption here is that if the past four Congress's age is normally distributed, then the next two Congresses (from 2015 - 2017) probably are as well. So let's isolate the past four Congress's and take a look at their distribution! \n",
    "\n",
    "*Note: Here we use a <a href=\"https://blog.modeanalytics.com/violin-plot-examples/\">violin plot</a> to visualize the distribution. They're common, useful plots. Take a look at the link to learn more about them!*"
   ]
  },
  {
   "cell_type": "code",
   "execution_count": 12,
   "metadata": {},
   "outputs": [
    {
     "data": {
      "image/png": "[encoded data removed]",
      "text/plain": [
       "<Figure size 864x432 with 1 Axes>"
      ]
     },
     "metadata": {
      "needs_background": "light"
     },
     "output_type": "display_data"
    }
   ],
   "source": [
    "# Create a subset of the congressional data where we only keep the data from 2007 onward\n",
    "congress_2007 = congress.drop(congress[congress['year'] < 2007].index)\n",
    "\n",
    "# Use seaborn and matplotlib to create a violin plot of the house and senates age distribution by year\n",
    "plt.figure(figsize=(12,6))\n",
    "sns.violinplot(x='year', y='age', hue='chamber', data=congress_2007)\n",
    "plt.title('Congressional Age Distribution by Year')\n",
    "plt.xlabel('Year')\n",
    "plt.ylabel('Age Distribution')\n",
    "plt.show()"
   ]
  },
  {
   "cell_type": "markdown",
   "metadata": {},
   "source": [
    "Those distributions are looking pretty normal! That's a good sign. But lets do a more analytical test to be sure.\n",
    "\n",
    "Here we use scipy's implementation of the Anderson-Darling test, which \"tests the null hypothesis that a sample is drawn from a population that follows a particular distribution\". We will be using it to test if our data is normal. \n",
    "We pass it an array of values and it will output the tests statistic and the critical values for a variety of different common significance levels (alpha). If the test statistic is larger than the critical value at our desired significance level, we reject the null hypothesis and the distribution is not normal, else the null hypothesis holds and the distribution is normal. This process for this test is illustrated below: \n",
    "\n",
    "*Note: To learn more about the Anderson-Darling test and testing for normality in python see the tutorial <a href=\"https://machinelearningmastery.com/a-gentle-introduction-to-normality-tests-in-python/\">here</a> and scipy's documentation <a href=\"https://docs.scipy.org/doc/scipy/reference/generated/scipy.stats.anderson.html\">here</a>.*"
   ]
  },
  {
   "cell_type": "code",
   "execution_count": 13,
   "metadata": {},
   "outputs": [
    {
     "data": {
      "text/plain": [
       "AndersonResult(statistic=0.3275361991770751, critical_values=array([ 0.571,  0.65 ,  0.78 ,  0.91 ,  1.082]), significance_level=array([ 15. ,  10. ,   5. ,   2.5,   1. ]))"
      ]
     },
     "execution_count": 13,
     "metadata": {},
     "output_type": "execute_result"
    }
   ],
   "source": [
    "# Group the congressional data (since 2007) by chamber\n",
    "by_chamber_2007 = congress_2007.groupby('chamber')\n",
    "\n",
    "# Retrieve each the house and the senate and group them by year\n",
    "house_by_year_2007 = by_chamber_2007.get_group('house').groupby('year')\n",
    "senate_by_year_2007 = by_chamber_2007.get_group('senate').groupby('year')\n",
    "\n",
    "# Perform the test on the age distribution of the house from 2007\n",
    "results = stats.anderson(house_by_year_2007.get_group(2007)['age'].values)\n",
    "results"
   ]
  },
  {
   "cell_type": "markdown",
   "metadata": {},
   "source": [
    "As you can see in the example above, we get a test statistic and an array of critical values. As is pretty common we will be using a significance level of 5%. So we can check the corresponding critical value and see that .32 < .78. Our test statistic is not greater than our critical value so we cannot reject the null hypothesis and the 2007 House's age distribution is normal. We can repeat this process for the House and Senate from 2007-2013:"
   ]
  },
  {
   "cell_type": "code",
   "execution_count": 14,
   "metadata": {},
   "outputs": [
    {
     "name": "stdout",
     "output_type": "stream",
     "text": [
      "The 2007.0 House's age follows a normal distribution.\n",
      "The 2009.0 House's age follows a normal distribution.\n",
      "The 2011.0 House's age follows a normal distribution.\n",
      "The 2013.0 House's age follows a normal distribution.\n",
      "The 2007.0 Senate's age follows a normal distribution.\n",
      "The 2009.0 Senate's age follows a normal distribution.\n",
      "The 2011.0 Senate's age follows a normal distribution.\n",
      "The 2013.0 Senate's age follows a normal distribution.\n"
     ]
    }
   ],
   "source": [
    "# Iterate over the house data and test if the data is normal at each year\n",
    "for year, df in house_by_year_2007:\n",
    "    results = stats.anderson(df['age'].values, dist='norm')\n",
    "    # Test against the significance level of 5%\n",
    "    if results.statistic < results.critical_values[2]:\n",
    "        print('The {} House\\'s age follows a normal distribution.'.format(year))\n",
    "    else:\n",
    "        print('The {} House\\'s age does NOT follow a normal distribution.'.format(year))\n",
    "\n",
    "# Iterate over the senate data and test if the data is normal at each year\n",
    "for year, df in senate_by_year_2007:\n",
    "    results = stats.anderson(df['age'].values, dist='norm')\n",
    "    # Test against the significance level of 5%\n",
    "    if results.statistic < results.critical_values[2]:\n",
    "        print('The {} Senate\\'s age follows a normal distribution.'.format(year))\n",
    "    else:\n",
    "        print('The {} Senate\\'s age does NOT follow a normal distribution.'.format(year)) "
   ]
  },
  {
   "cell_type": "markdown",
   "metadata": {},
   "source": [
    "Great! We can see that both the House and the Senate's ages followed a normal distribution from 2007-2013. Therefore, it is a pretty reasonable assumption to say that the ages followed a normal distribution for the following two Congress's in 2015 and 2017. Assuming that the age distribution was normal in these years, the median and mean are the same! So we can simply get each Congress's average age from online and put them into our dataframe manually. We retrieved this data from the Congressional Research Service's reports on the <a href=\"https://fas.org/sgp/crs/misc/R43869.pdf\">114th</a> and <a href=\"https://fas.org/sgp/crs/misc/R44762.pdf\">115th</a> Congress.\n",
    "\n",
    "Finally, we get our complete dataframe with the 2015-2017 Congressional data:"
   ]
  },
  {
   "cell_type": "code",
   "execution_count": 15,
   "metadata": {},
   "outputs": [
    {
     "data": {
      "text/html": [
       "<div>\n",
       "<style scoped>\n",
       "    .dataframe tbody tr th:only-of-type {\n",
       "        vertical-align: middle;\n",
       "    }\n",
       "\n",
       "    .dataframe tbody tr th {\n",
       "        vertical-align: top;\n",
       "    }\n",
       "\n",
       "    .dataframe thead th {\n",
       "        text-align: right;\n",
       "    }\n",
       "</style>\n",
       "<table border=\"1\" class=\"dataframe\">\n",
       "  <thead>\n",
       "    <tr style=\"text-align: right;\">\n",
       "      <th></th>\n",
       "      <th>year</th>\n",
       "      <th>industry</th>\n",
       "      <th>median_age</th>\n",
       "    </tr>\n",
       "  </thead>\n",
       "  <tbody>\n",
       "    <tr>\n",
       "      <th>100</th>\n",
       "      <td>2016</td>\n",
       "      <td>House</td>\n",
       "      <td>57.0</td>\n",
       "    </tr>\n",
       "    <tr>\n",
       "      <th>101</th>\n",
       "      <td>2017</td>\n",
       "      <td>House</td>\n",
       "      <td>57.8</td>\n",
       "    </tr>\n",
       "    <tr>\n",
       "      <th>102</th>\n",
       "      <td>2015</td>\n",
       "      <td>Senate</td>\n",
       "      <td>61.0</td>\n",
       "    </tr>\n",
       "    <tr>\n",
       "      <th>103</th>\n",
       "      <td>2016</td>\n",
       "      <td>Senate</td>\n",
       "      <td>61.0</td>\n",
       "    </tr>\n",
       "    <tr>\n",
       "      <th>104</th>\n",
       "      <td>2017</td>\n",
       "      <td>Senate</td>\n",
       "      <td>61.8</td>\n",
       "    </tr>\n",
       "  </tbody>\n",
       "</table>\n",
       "</div>"
      ],
      "text/plain": [
       "     year industry  median_age\n",
       "100  2016    House        57.0\n",
       "101  2017    House        57.8\n",
       "102  2015   Senate        61.0\n",
       "103  2016   Senate        61.0\n",
       "104  2017   Senate        61.8"
      ]
     },
     "execution_count": 15,
     "metadata": {},
     "output_type": "execute_result"
    }
   ],
   "source": [
    "# Store the values in variables manually\n",
    "house_114, house_115, senate_114, senate_115 = 57, 57.8, 61, 61.8\n",
    "\n",
    "# Append each of the values to the array. It may not be pretty, but for such a small data set \n",
    "# it's simple just to enumerate each value\n",
    "industry = industry.append({'year': 2015, 'industry': 'House', 'median_age': house_114}, ignore_index=True)\n",
    "industry = industry.append({'year': 2016, 'industry': 'House', 'median_age': house_114}, ignore_index=True)\n",
    "industry = industry.append({'year': 2017, 'industry': 'House', 'median_age': house_115}, ignore_index=True)\n",
    "industry = industry.append({'year': 2015, 'industry': 'Senate', 'median_age': senate_114}, ignore_index=True)\n",
    "industry = industry.append({'year': 2016, 'industry': 'Senate', 'median_age': senate_114}, ignore_index=True)\n",
    "industry = industry.append({'year': 2017, 'industry': 'Senate', 'median_age': senate_115}, ignore_index=True)\n",
    "\n",
    "industry.tail()"
   ]
  },
  {
   "cell_type": "markdown",
   "metadata": {},
   "source": [
    "Perfect! Now we have a complete dataset with Congress's median age from 2011 - 2017. \n",
    "\n",
    "#### How does Congress stack up?\n",
    "\n",
    "Now that we have our dataset sorted out let's see how Congress compares to the rest of the American industries. We can make a simple scatter plot with a regression line to see if there are any trends."
   ]
  },
  {
   "cell_type": "code",
   "execution_count": 16,
   "metadata": {},
   "outputs": [
    {
     "data": {
      "image/png": "[encoded data removed]",
      "text/plain": [
       "<Figure size 900x720 with 1 Axes>"
      ]
     },
     "metadata": {
      "needs_background": "light"
     },
     "output_type": "display_data"
    }
   ],
   "source": [
    "# Create a plot figure using matplotlib and retrieve the median age and year data\n",
    "plt.figure(figsize=(12.5,10))\n",
    "x = industry['year']\n",
    "y = industry['median_age']\n",
    "\n",
    "# Make regression scatter plot using seaborn\n",
    "sns.regplot(x=x, y=y)\n",
    "\n",
    "# Adjust plot labels\n",
    "plt.title('Median Age by Industry')\n",
    "plt.xlabel('Year')\n",
    "plt.ylabel('Median Age')\n",
    "\n",
    "# Add notations to the House and Senate data points\n",
    "for i, txt in enumerate(industry['industry']):\n",
    "    if txt == 'Senate' or txt == 'House':\n",
    "        plt.annotate(txt, (x[i], y[i]))"
   ]
  },
  {
   "cell_type": "markdown",
   "metadata": {},
   "source": [
    "Wow, so Congress seems to be a lot older than other US industries. The median age seems to hover somewhere around 45 years for most US industries, but Congress is way above with the House's median age seeming to be around 57 and the Senate's around 61. So we definitely know that Congress is old compared to the rest of the US industries, but by how much?\n",
    "\n",
    "### 3.2 How much older is Congress?\n",
    "\n",
    "To see how much older Congress currently is, let's focus on the 2017 Congress. Ideally, we can give a quick and easy answer as to how much older Congress is using the <a href=\"https://en.wikipedia.org/wiki/68%E2%80%9395%E2%80%9399.7_rule\">68-95-99.7 rule</a>, but this rule only applies if the distribution is normal. So let's check if it is!"
   ]
  },
  {
   "cell_type": "code",
   "execution_count": 17,
   "metadata": {},
   "outputs": [
    {
     "data": {
      "image/png": "[encoded data removed]",
      "text/plain": [
       "<Figure size 540x360 with 1 Axes>"
      ]
     },
     "metadata": {
      "needs_background": "light"
     },
     "output_type": "display_data"
    },
    {
     "name": "stdout",
     "output_type": "stream",
     "text": [
      "The 2017 Industry's age does NOT follow a normal distribution.\n"
     ]
    }
   ],
   "source": [
    "# Retrieve the industry data from 2017\n",
    "industry_2017 = industry.groupby('year').get_group(2017)\n",
    "\n",
    "# Create a figure using matplotlib\n",
    "plt.figure(figsize=(7.5,5))\n",
    "\n",
    "# Make regression plot using seaborn\n",
    "sns.distplot(industry_2017['median_age'])\n",
    "\n",
    "# Adjust plot labels using matplotlib\n",
    "plt.title('Median Age by Industry')\n",
    "plt.xlabel('Year')\n",
    "plt.ylabel('Median Age')\n",
    "plt.show()\n",
    "\n",
    "# Test analytically whether the distribution is normal\n",
    "results = stats.anderson(industry_2017['median_age'], dist='norm')\n",
    "# Test against the significance level of 5%\n",
    "if results.statistic < results.critical_values[2]:\n",
    "    print('The 2017 Industry\\'s age follows a normal distribution.')\n",
    "else:\n",
    "    print('The 2017 Industry\\'s age does NOT follow a normal distribution.')"
   ]
  },
  {
   "cell_type": "markdown",
   "metadata": {},
   "source": [
    "No luck. Looking at the distribution graphically it doesn't appear to be very normal at all and a quick Anderson test confirms our suspicions. Because the distribution isn't normal, it will be a little bit harder to get an exact quantitative measure of just how much older Congress is than the average US worker, at least with the data we have. With more data and a full distribution of the age of workers across the US (which would almost certainly be normal), we could use the 68-95-99.7 rule and calculate exactly what percentile Congress is. But, with only 15 data points of the median age (rather than full data) across industries, we'll have to resort to slightly more primitive measures.\n",
    "\n",
    "Luckily, we don't need a lot of clarity here since we are just trying to figure out if Congress is significantly older than other industries and if so, roughly by how much. To keep things simple, we'll just be using a <a href=\"https://www.wellbeingatschool.org.nz/information-sheet/understanding-and-interpreting-box-plots\">boxplot</a> to check just how far out Congress is compared to the rest of the pack. (Click on the link to learn how to read them!)"
   ]
  },
  {
   "cell_type": "code",
   "execution_count": 18,
   "metadata": {},
   "outputs": [
    {
     "data": {
      "image/png": "[encoded data removed]",
      "text/plain": [
       "<Figure size 864x432 with 1 Axes>"
      ]
     },
     "metadata": {
      "needs_background": "light"
     },
     "output_type": "display_data"
    }
   ],
   "source": [
    "# Use seaborn and matplotlib to create a boxplot\n",
    "plt.figure(figsize=(12,6))\n",
    "sns.boxplot(x=industry_2017['median_age'])\n",
    "plt.title('Age Distribution of 2017 US Industries')\n",
    "plt.xlabel('Median Age')\n",
    "plt.show()"
   ]
  },
  {
   "cell_type": "markdown",
   "metadata": {},
   "source": [
    "Looking at the boxplot we can see that the House and Senate are huge outliers. The inter-quartile range (IQR) and the wiskers on the boxplot are relatively small, showing that generally we have a pretty tight distribution. However, the House and Senate lie far outside of the IQR and the upper bound, within which nearly 100% of the values fall. So we now know that the House and Senate are not only outliers, but are basically unique compared to the rest of the industry as far as age is concerned. \n",
    "\n",
    "(Read <a href=\"https://www.wellbeingatschool.org.nz/information-sheet/understanding-and-interpreting-box-plots\">this</a> if you didn't get any of that.)\n",
    "\n",
    "To be a little more quantitative lets how many standard deviations away from the mean the House and Senate are."
   ]
  },
  {
   "cell_type": "code",
   "execution_count": 19,
   "metadata": {},
   "outputs": [
    {
     "name": "stdout",
     "output_type": "stream",
     "text": [
      "The House's age was 1.8298 standard devations from the mean in 2017.\n",
      "The Senate's age was 2.3925 standard devations from the mean in 2017.\n"
     ]
    }
   ],
   "source": [
    "# Retrieve the mean and standard deviation of the industry data\n",
    "age_2017 = industry_2017['median_age']\n",
    "mean = age_2017.mean()\n",
    "std = age_2017.std()\n",
    "\n",
    "# Compute the z-score\n",
    "z_house = (house_115 - mean)/std\n",
    "z_senate = (senate_115 - mean)/std\n",
    "\n",
    "print('The House\\'s age was {:.4f} standard devations from the mean in 2017.'.format(z_house))\n",
    "print('The Senate\\'s age was {:.4f} standard devations from the mean in 2017.'.format(z_senate))"
   ]
  },
  {
   "cell_type": "markdown",
   "metadata": {},
   "source": [
    "If this were a normal distribution 2 standard deviations would put the House and Senate in the top 5% of the age distribution. But seeing as this is not a normal distribution and the House and Senate are outliers, they are actually even more abnormal and are in much smaller percentage of the top ages. Though this isn't very quantitiative, it does definitively display that the House and Senate are extreme outliers and are much older than the rest of US industries."
   ]
  },
  {
   "cell_type": "markdown",
   "metadata": {},
   "source": [
    "## 4. Is Congress Aging?\n",
    "\n",
    "Now that we know that Congress is much older than other industries, we have another question. Despite the large age difference that already separates Congress, are Congresses getting older still? To examine this we first want to get a feel for the Congressional age data, so lets put it in a scatter plot."
   ]
  },
  {
   "cell_type": "code",
   "execution_count": 20,
   "metadata": {},
   "outputs": [
    {
     "data": {
      "image/png": "[encoded data removed]",
      "text/plain": [
       "<Figure size 864x432 with 1 Axes>"
      ]
     },
     "metadata": {
      "needs_background": "light"
     },
     "output_type": "display_data"
    }
   ],
   "source": [
    "# Get the average age from the house and senate dataframes (grouped by year)\n",
    "house_avg_age = house_by_year['age'].mean()\n",
    "senate_avg_age = senate_by_year['age'].mean()\n",
    "\n",
    "# Use matplotlib and seaborn to plot the data\n",
    "plt.figure(figsize=(12, 6))\n",
    "sns.scatterplot(data=house_avg_age)\n",
    "sns.scatterplot(data=senate_avg_age)\n",
    "plt.title('Average Age of Congress Over Time')\n",
    "plt.xlabel('Year')\n",
    "plt.ylabel('Age')\n",
    "plt.legend(['House', 'Senate'])\n",
    "plt.show()"
   ]
  },
  {
   "cell_type": "markdown",
   "metadata": {},
   "source": [
    "A quick look at the scatter plot shows that there definitely has been a steep increase in the average age of House and Senate since about 1980, with a slight plateau/dip in the past few years.\n",
    "\n",
    "It definitely seems like Congressmembers are getting older as time goes on, but maybe this is a product of something other than the composition of Congress, like increasing life expectancy. Let's change our data to compensate for changes in life expectancy and see if the trend holds. We do this by using our life expectancy dataframe to add a column that is the ratio of each Congressmember's age to the average life expectancy during that year.\n",
    "\n",
    "While we're adjusting our data, let's truncate our dataset a bit. Though all of this data is interesting, age data from the 1940s isn't extremely relevant to the age of Congressmembers now. To compensate for this let's take a subset of the data that's more relevant to our overarching theme of Congressional computer smarts. Personal computers <a href=\"https://en.wikipedia.org/wiki/Home_computer\"> first came out in the late 1970s</a> and became increasingly popular in the early and mid 80s until they became a common household item. So let's look at the data from 1977, when personal computers became available, to now."
   ]
  },
  {
   "cell_type": "code",
   "execution_count": 21,
   "metadata": {},
   "outputs": [
    {
     "data": {
      "text/html": [
       "<div>\n",
       "<style scoped>\n",
       "    .dataframe tbody tr th:only-of-type {\n",
       "        vertical-align: middle;\n",
       "    }\n",
       "\n",
       "    .dataframe tbody tr th {\n",
       "        vertical-align: top;\n",
       "    }\n",
       "\n",
       "    .dataframe thead th {\n",
       "        text-align: right;\n",
       "    }\n",
       "</style>\n",
       "<table border=\"1\" class=\"dataframe\">\n",
       "  <thead>\n",
       "    <tr style=\"text-align: right;\">\n",
       "      <th></th>\n",
       "      <th>congress</th>\n",
       "      <th>chamber</th>\n",
       "      <th>bioguide</th>\n",
       "      <th>firstname</th>\n",
       "      <th>middlename</th>\n",
       "      <th>lastname</th>\n",
       "      <th>suffix</th>\n",
       "      <th>birthday</th>\n",
       "      <th>state</th>\n",
       "      <th>party</th>\n",
       "      <th>incumbent</th>\n",
       "      <th>termstart</th>\n",
       "      <th>age</th>\n",
       "      <th>year</th>\n",
       "      <th>life_exp_ratio</th>\n",
       "    </tr>\n",
       "  </thead>\n",
       "  <tbody>\n",
       "    <tr>\n",
       "      <th>8275</th>\n",
       "      <td>95</td>\n",
       "      <td>house</td>\n",
       "      <td>N000113</td>\n",
       "      <td>Robert</td>\n",
       "      <td>Nelson Cornelius</td>\n",
       "      <td>Nix</td>\n",
       "      <td>Sr.</td>\n",
       "      <td>1898-08-09</td>\n",
       "      <td>PA</td>\n",
       "      <td>D</td>\n",
       "      <td>Yes</td>\n",
       "      <td>1/4/77</td>\n",
       "      <td>78.4</td>\n",
       "      <td>1977.0</td>\n",
       "      <td>1.069577</td>\n",
       "    </tr>\n",
       "    <tr>\n",
       "      <th>8276</th>\n",
       "      <td>95</td>\n",
       "      <td>house</td>\n",
       "      <td>P000398</td>\n",
       "      <td>William</td>\n",
       "      <td>Robert</td>\n",
       "      <td>Poage</td>\n",
       "      <td>NaN</td>\n",
       "      <td>1899-12-28</td>\n",
       "      <td>TX</td>\n",
       "      <td>D</td>\n",
       "      <td>Yes</td>\n",
       "      <td>1/4/77</td>\n",
       "      <td>77.0</td>\n",
       "      <td>1977.0</td>\n",
       "      <td>1.050477</td>\n",
       "    </tr>\n",
       "    <tr>\n",
       "      <th>8277</th>\n",
       "      <td>95</td>\n",
       "      <td>house</td>\n",
       "      <td>P000218</td>\n",
       "      <td>Claude</td>\n",
       "      <td>Denson</td>\n",
       "      <td>Pepper</td>\n",
       "      <td>NaN</td>\n",
       "      <td>9/8/00</td>\n",
       "      <td>FL</td>\n",
       "      <td>D</td>\n",
       "      <td>Yes</td>\n",
       "      <td>1/4/77</td>\n",
       "      <td>76.3</td>\n",
       "      <td>1977.0</td>\n",
       "      <td>1.040928</td>\n",
       "    </tr>\n",
       "    <tr>\n",
       "      <th>8278</th>\n",
       "      <td>95</td>\n",
       "      <td>house</td>\n",
       "      <td>M000065</td>\n",
       "      <td>George</td>\n",
       "      <td>Herman</td>\n",
       "      <td>Mahon</td>\n",
       "      <td>NaN</td>\n",
       "      <td>9/22/00</td>\n",
       "      <td>TX</td>\n",
       "      <td>D</td>\n",
       "      <td>Yes</td>\n",
       "      <td>1/4/77</td>\n",
       "      <td>76.3</td>\n",
       "      <td>1977.0</td>\n",
       "      <td>1.040928</td>\n",
       "    </tr>\n",
       "    <tr>\n",
       "      <th>8279</th>\n",
       "      <td>95</td>\n",
       "      <td>house</td>\n",
       "      <td>D000211</td>\n",
       "      <td>James</td>\n",
       "      <td>Joseph</td>\n",
       "      <td>Delaney</td>\n",
       "      <td>NaN</td>\n",
       "      <td>3/19/01</td>\n",
       "      <td>NY</td>\n",
       "      <td>D</td>\n",
       "      <td>Yes</td>\n",
       "      <td>1/4/77</td>\n",
       "      <td>75.8</td>\n",
       "      <td>1977.0</td>\n",
       "      <td>1.034106</td>\n",
       "    </tr>\n",
       "  </tbody>\n",
       "</table>\n",
       "</div>"
      ],
      "text/plain": [
       "      congress chamber bioguide firstname        middlename lastname suffix  \\\n",
       "8275        95   house  N000113    Robert  Nelson Cornelius      Nix    Sr.   \n",
       "8276        95   house  P000398   William            Robert    Poage    NaN   \n",
       "8277        95   house  P000218    Claude            Denson   Pepper    NaN   \n",
       "8278        95   house  M000065    George            Herman    Mahon    NaN   \n",
       "8279        95   house  D000211     James            Joseph  Delaney    NaN   \n",
       "\n",
       "        birthday state party incumbent termstart   age    year  life_exp_ratio  \n",
       "8275  1898-08-09    PA     D       Yes    1/4/77  78.4  1977.0        1.069577  \n",
       "8276  1899-12-28    TX     D       Yes    1/4/77  77.0  1977.0        1.050477  \n",
       "8277      9/8/00    FL     D       Yes    1/4/77  76.3  1977.0        1.040928  \n",
       "8278     9/22/00    TX     D       Yes    1/4/77  76.3  1977.0        1.040928  \n",
       "8279     3/19/01    NY     D       Yes    1/4/77  75.8  1977.0        1.034106  "
      ]
     },
     "execution_count": 21,
     "metadata": {},
     "output_type": "execute_result"
    }
   ],
   "source": [
    "# Create a subset of the data from 1977-present to focus in on a more current era\n",
    "congress_1977 = congress.drop(congress[congress['year'] < 1977].index)\n",
    "\n",
    "# Add a row to the dataframe that is the ratio of the Congressmember's age and the average life expectancy at the time\n",
    "for i, row in congress_1977.iterrows():\n",
    "    congress_1977.at[i, 'life_exp_ratio'] = row['age']/lifeExp.at[int(row['year']), 'Average Life Expectancy (Years)']\n",
    "    \n",
    "congress_1977.head()"
   ]
  },
  {
   "cell_type": "markdown",
   "metadata": {},
   "source": [
    "Done. Now we have a smaller subset of the data and a new column \"life_exp_ratio\". As stated above this is just the ratio of the Congressmember's age and the life expectancy at that time in history. This ratio essentially represents what percentage of their expected lifetime the Congressmember had \"completed\". It's a little grim, but should serve well for our purposes. Now let's plot the data again and see if the compensated age (or rather life expectancy ratio) still increases over time. "
   ]
  },
  {
   "cell_type": "code",
   "execution_count": 22,
   "metadata": {},
   "outputs": [
    {
     "data": {
      "image/png": "[encoded data removed]",
      "text/plain": [
       "<Figure size 864x432 with 1 Axes>"
      ]
     },
     "metadata": {
      "needs_background": "light"
     },
     "output_type": "display_data"
    }
   ],
   "source": [
    "# Group our data subset by chamber and extract the yearly data for both the house and senate\n",
    "by_chamber_1977 = congress_1977.groupby('chamber')\n",
    "house_by_year_1977 = by_chamber_1977.get_group('house').groupby('year')\n",
    "senate_by_year_1977 = by_chamber_1977.get_group('senate').groupby('year')\n",
    "\n",
    "# Get the mean for each year\n",
    "house_life_exp_1977 = house_by_year_1977['life_exp_ratio'].mean()\n",
    "senate_life_exp_1977 = senate_by_year_1977['life_exp_ratio'].mean()\n",
    "\n",
    "# Use seaborn and matplotlib to plot the data\n",
    "plt.figure(figsize=(12, 6))\n",
    "sns.scatterplot(data=house_life_exp_1977)\n",
    "sns.scatterplot(data=senate_life_exp_1977)\n",
    "plt.title('Average Life Expectancy Ratio of Congress Over Time')\n",
    "plt.xlabel('Year')\n",
    "plt.ylabel('Life Expectancy Ratio')\n",
    "plt.legend(['House', 'Senate'])\n",
    "plt.show()"
   ]
  },
  {
   "cell_type": "markdown",
   "metadata": {},
   "source": [
    "It defintely seems as though the increasing trend still holds for both the House and Senate after compensating for life expectancy. The increase is a little bit less dramatic, but definitely still seems to be there. Let's use scipy to fit some trendlines and see what they can tell us.\n",
    "\n",
    "*Note: Generally, I would recommend using <a href=\"https://scikit-learn.org/stable/modules/generated/sklearn.linear_model.LinearRegression.html\">sklearn's Linear Model</a> rather than <a href=\"https://docs.scipy.org/doc/scipy-0.15.1/reference/generated/scipy.stats.linregress.html\">scipy's Linear Regression</a>. This is because sklearn's implementation fits a linear model that can use **n** attributes to fit a model, whereas scipy's only uses one attribute. However, scipy's model also performs a hypothesis test with the null hypothesis that the slope is zero, which is useful for our tests. And since we are only using one attribute, scipy's model will do for our application. That being said, <a href=\"https://www.statsmodels.org/dev/generated/statsmodels.regression.linear_model.OLS.html\">stats model</a> provides a linear model function that provides both a good fit and multiple other test statistics, but it is a bit overkill for our model. For any linear modeling you plan on doing, I would suggest looking at all three and determining which is best for your application.*"
   ]
  },
  {
   "cell_type": "code",
   "execution_count": 23,
   "metadata": {},
   "outputs": [
    {
     "data": {
      "image/png": "[encoded data removed]",
      "text/plain": [
       "<Figure size 864x432 with 1 Axes>"
      ]
     },
     "metadata": {
      "needs_background": "light"
     },
     "output_type": "display_data"
    }
   ],
   "source": [
    "# Retrieve the life expectancy years and values from the series in the previous cell\n",
    "x_house = house_life_exp_1977.index.values\n",
    "y_house = house_life_exp_1977.values\n",
    "\n",
    "x_sen = senate_life_exp_1977.index.values\n",
    "y_sen = senate_life_exp_1977.values\n",
    "\n",
    "# Use seaborn and matplotlib to plot the data and regression lines\n",
    "plt.figure(figsize=(12 ,6))\n",
    "sns.regplot(x=x_house, y=y_house)\n",
    "sns.regplot(x=x_sen, y=y_sen)\n",
    "plt.title('Average Life Expectancy Ratio of Congress Over Time')\n",
    "plt.xlabel('Year')\n",
    "plt.ylabel('Life Expectancy Ratio')\n",
    "plt.legend(['House', 'Senate'])\n",
    "plt.show()"
   ]
  },
  {
   "cell_type": "markdown",
   "metadata": {},
   "source": [
    "The linear regression graphs above seems to support our hypothesis of increasing age, let's see if a linear model supports it:"
   ]
  },
  {
   "cell_type": "code",
   "execution_count": 24,
   "metadata": {},
   "outputs": [
    {
     "data": {
      "text/plain": [
       "LinregressResult(slope=0.0016614707956097122, intercept=-2.6229513885973321, rvalue=0.89245070286448214, pvalue=2.801855836658906e-07, stderr=0.00020370425052722879)"
      ]
     },
     "execution_count": 24,
     "metadata": {},
     "output_type": "execute_result"
    }
   ],
   "source": [
    "lm_house = stats.linregress(x_house, y_house)\n",
    "lm_sen = stats.linregress(x_sen, y_sen)\n",
    "\n",
    "lm_house"
   ]
  },
  {
   "cell_type": "markdown",
   "metadata": {},
   "source": [
    "As you can see, scipy's linregress outputs the parameters of the line and the R value (not R^2!) as well as a pvalue (for the null hypothesis of zero slope) and standard error."
   ]
  },
  {
   "cell_type": "code",
   "execution_count": 25,
   "metadata": {},
   "outputs": [
    {
     "name": "stdout",
     "output_type": "stream",
     "text": [
      "House R^2 Value: 0.7965\n",
      "House P-Value: 2.801855836658906e-07\n",
      "\n",
      "Senate R^2 Value: 0.8359\n",
      "Senate P-Value: 4.396642566737352e-08\n"
     ]
    }
   ],
   "source": [
    "print('House R^2 Value: {:.4f}'.format(lm_house[2]**2))\n",
    "print('House P-Value: {}\\n'.format(lm_house[3]))\n",
    "\n",
    "print('Senate R^2 Value: {:.4f}'.format(lm_sen[2]**2))\n",
    "print('Senate P-Value: {}'.format(lm_sen[3]))"
   ]
  },
  {
   "cell_type": "markdown",
   "metadata": {},
   "source": [
    "Checking our linear models, we get pretty good fits. Around .8 is not perfect, but still very good and the p-value for both the House and Senate show that we can reject the null hypothesis of zero slope. Therefore, we know that we have a good linear regression fit that proves that Congress is aging. With the House's average age increasing from about 66% to 70% of the period life expectancy over 30 years and the Senates average age increasing from about 70% to 80% of the period life expectancy over 30 years (according to the linear model). \n",
    "\n",
    "Now that we know that Congress is increasing in age can we find some possible reasons why?"
   ]
  },
  {
   "cell_type": "markdown",
   "metadata": {},
   "source": [
    "## 5. Why is Congress Getting Older?\n",
    "\n",
    "### 5.1 Term Counts! \n",
    "\n",
    "The first possible explanation for Congress's increasing age is that people are staying in office longer. As they stay in office and age, they drive the average age of Congress up. Let's see if our data can prove or disprove this hypothesis.\n",
    "\n",
    "First, let's add an extra column that counts the number of terms each Congressmember served using their unique \"bioguide\" as a keying value. We have to be careful to only count the terms they served prior to the given date. For example, if Bill from the House served three terms starting in 1991, 1993, and 1995, in 1993 his term count would be 2, but in 1995 it would be 3. If we simply counted the absolute number of terms Bill served and assigned a term count of 3 to the 1991 and 1993 Congress, we would artificially drive up the average term count for those years. Let's not do that!\n",
    "\n",
    "It is important to note that this method of counting terms may cause some bias. Since our term count data only counts terms served from 1947 to 2013, we could have a problem. Say a person in the 1947 Congress had served 4 terms prior to 1947 and 5 terms afterward. Their total term count should be 9, but our data would say it was 5, potentially skewing the data. By counting the terms starting at 1947 and then taking a subset of the data from 1977 onward, we can minimize the chance of this happening (because it is not likely for someone who served prior to 1947 to still be serving in 1977), but it is still important to be conscious of possible bias.\n",
    "\n",
    "Also, to keep things simple we will only be looking at the term counts in the House, since their terms are only two years and line up with our data (unlike the 6 year Senate terms). \n",
    "\n",
    "*Note: We count the terms for the entire dataset with the method below, but will only be using the portion related to the House. The term count for the Senate is likely innacurate.*"
   ]
  },
  {
   "cell_type": "code",
   "execution_count": 26,
   "metadata": {},
   "outputs": [
    {
     "data": {
      "text/html": [
       "<div>\n",
       "<style scoped>\n",
       "    .dataframe tbody tr th:only-of-type {\n",
       "        vertical-align: middle;\n",
       "    }\n",
       "\n",
       "    .dataframe tbody tr th {\n",
       "        vertical-align: top;\n",
       "    }\n",
       "\n",
       "    .dataframe thead th {\n",
       "        text-align: right;\n",
       "    }\n",
       "</style>\n",
       "<table border=\"1\" class=\"dataframe\">\n",
       "  <thead>\n",
       "    <tr style=\"text-align: right;\">\n",
       "      <th></th>\n",
       "      <th>congress</th>\n",
       "      <th>chamber</th>\n",
       "      <th>bioguide</th>\n",
       "      <th>firstname</th>\n",
       "      <th>middlename</th>\n",
       "      <th>lastname</th>\n",
       "      <th>suffix</th>\n",
       "      <th>birthday</th>\n",
       "      <th>state</th>\n",
       "      <th>party</th>\n",
       "      <th>incumbent</th>\n",
       "      <th>termstart</th>\n",
       "      <th>age</th>\n",
       "      <th>year</th>\n",
       "      <th>term_count</th>\n",
       "    </tr>\n",
       "  </thead>\n",
       "  <tbody>\n",
       "    <tr>\n",
       "      <th>0</th>\n",
       "      <td>80</td>\n",
       "      <td>house</td>\n",
       "      <td>M000112</td>\n",
       "      <td>Joseph</td>\n",
       "      <td>Jefferson</td>\n",
       "      <td>Mansfield</td>\n",
       "      <td>NaN</td>\n",
       "      <td>1861-02-09</td>\n",
       "      <td>TX</td>\n",
       "      <td>D</td>\n",
       "      <td>Yes</td>\n",
       "      <td>1/3/47</td>\n",
       "      <td>85.9</td>\n",
       "      <td>1947.0</td>\n",
       "      <td>1.0</td>\n",
       "    </tr>\n",
       "    <tr>\n",
       "      <th>1</th>\n",
       "      <td>80</td>\n",
       "      <td>house</td>\n",
       "      <td>D000448</td>\n",
       "      <td>Robert</td>\n",
       "      <td>Lee</td>\n",
       "      <td>Doughton</td>\n",
       "      <td>NaN</td>\n",
       "      <td>1863-11-07</td>\n",
       "      <td>NC</td>\n",
       "      <td>D</td>\n",
       "      <td>Yes</td>\n",
       "      <td>1/3/47</td>\n",
       "      <td>83.2</td>\n",
       "      <td>1947.0</td>\n",
       "      <td>1.0</td>\n",
       "    </tr>\n",
       "    <tr>\n",
       "      <th>2</th>\n",
       "      <td>80</td>\n",
       "      <td>house</td>\n",
       "      <td>S000001</td>\n",
       "      <td>Adolph</td>\n",
       "      <td>Joachim</td>\n",
       "      <td>Sabath</td>\n",
       "      <td>NaN</td>\n",
       "      <td>1866-04-04</td>\n",
       "      <td>IL</td>\n",
       "      <td>D</td>\n",
       "      <td>Yes</td>\n",
       "      <td>1/3/47</td>\n",
       "      <td>80.7</td>\n",
       "      <td>1947.0</td>\n",
       "      <td>1.0</td>\n",
       "    </tr>\n",
       "    <tr>\n",
       "      <th>3</th>\n",
       "      <td>80</td>\n",
       "      <td>house</td>\n",
       "      <td>E000023</td>\n",
       "      <td>Charles</td>\n",
       "      <td>Aubrey</td>\n",
       "      <td>Eaton</td>\n",
       "      <td>NaN</td>\n",
       "      <td>1868-03-29</td>\n",
       "      <td>NJ</td>\n",
       "      <td>R</td>\n",
       "      <td>Yes</td>\n",
       "      <td>1/3/47</td>\n",
       "      <td>78.8</td>\n",
       "      <td>1947.0</td>\n",
       "      <td>1.0</td>\n",
       "    </tr>\n",
       "    <tr>\n",
       "      <th>4</th>\n",
       "      <td>80</td>\n",
       "      <td>house</td>\n",
       "      <td>L000296</td>\n",
       "      <td>William</td>\n",
       "      <td>NaN</td>\n",
       "      <td>Lewis</td>\n",
       "      <td>NaN</td>\n",
       "      <td>1868-09-22</td>\n",
       "      <td>KY</td>\n",
       "      <td>R</td>\n",
       "      <td>No</td>\n",
       "      <td>1/3/47</td>\n",
       "      <td>78.3</td>\n",
       "      <td>1947.0</td>\n",
       "      <td>1.0</td>\n",
       "    </tr>\n",
       "  </tbody>\n",
       "</table>\n",
       "</div>"
      ],
      "text/plain": [
       "   congress chamber bioguide firstname middlename   lastname suffix  \\\n",
       "0        80   house  M000112    Joseph  Jefferson  Mansfield    NaN   \n",
       "1        80   house  D000448    Robert        Lee   Doughton    NaN   \n",
       "2        80   house  S000001    Adolph    Joachim     Sabath    NaN   \n",
       "3        80   house  E000023   Charles     Aubrey      Eaton    NaN   \n",
       "4        80   house  L000296   William        NaN      Lewis    NaN   \n",
       "\n",
       "     birthday state party incumbent termstart   age    year  term_count  \n",
       "0  1861-02-09    TX     D       Yes    1/3/47  85.9  1947.0         1.0  \n",
       "1  1863-11-07    NC     D       Yes    1/3/47  83.2  1947.0         1.0  \n",
       "2  1866-04-04    IL     D       Yes    1/3/47  80.7  1947.0         1.0  \n",
       "3  1868-03-29    NJ     R       Yes    1/3/47  78.8  1947.0         1.0  \n",
       "4  1868-09-22    KY     R        No    1/3/47  78.3  1947.0         1.0  "
      ]
     },
     "execution_count": 26,
     "metadata": {},
     "output_type": "execute_result"
    }
   ],
   "source": [
    "# Copy the congress database and initialize a dictionary that will use bioguides as keys and current \n",
    "# term count as values\n",
    "congress_counts = congress\n",
    "count = {}\n",
    "\n",
    "# Iterate over the dataframe and add a column that counts the number of terms so far\n",
    "for i, row in congress_counts.iterrows():\n",
    "    bioguide = row['bioguide']\n",
    "    if bioguide in count:\n",
    "        count[bioguide] += 1\n",
    "    else:\n",
    "        count[bioguide] = 1\n",
    "        \n",
    "    congress_counts.loc[i, 'term_count'] = count[bioguide]\n",
    "    \n",
    "congress_counts.head()"
   ]
  },
  {
   "cell_type": "markdown",
   "metadata": {},
   "source": [
    "Perfect. So we have a dataframe that includes the term counts, now let's do a quick spot check to make sure our count is accurate."
   ]
  },
  {
   "cell_type": "code",
   "execution_count": 27,
   "metadata": {},
   "outputs": [
    {
     "data": {
      "text/plain": [
       "congress          113\n",
       "chamber         house\n",
       "bioguide      D000355\n",
       "firstname        John\n",
       "middlename         D.\n",
       "               ...   \n",
       "incumbent         Yes\n",
       "termstart      1/3/13\n",
       "age              86.5\n",
       "year             2013\n",
       "term_count         30\n",
       "Name: 18092, Length: 15, dtype: object"
      ]
     },
     "execution_count": 27,
     "metadata": {},
     "output_type": "execute_result"
    }
   ],
   "source": [
    "congress_counts.loc[congress['term_count'].idxmax()]"
   ]
  },
  {
   "cell_type": "markdown",
   "metadata": {},
   "source": [
    "Our spot check reveals that we found the maximum number of terms served to be 30, served by John Dingell of Michigan (D000355). Checking online we find that this is in fact <a href=\"https://en.wikipedia.org/wiki/John_Dingell\"> true</a>. John Dingell served in the House of Representatives from 1955 - 2015. Which is a lot of terms. But luckily it looks like we have an accurate term count.\n",
    "\n",
    "Now let's see what our the term counts look like over time:"
   ]
  },
  {
   "cell_type": "code",
   "execution_count": 28,
   "metadata": {},
   "outputs": [
    {
     "data": {
      "image/png": "[encoded data removed]",
      "text/plain": [
       "<Figure size 864x432 with 1 Axes>"
      ]
     },
     "metadata": {
      "needs_background": "light"
     },
     "output_type": "display_data"
    }
   ],
   "source": [
    "# Get a subset of our data for Congresses after 1977, extract the data for the house, and group it by year\n",
    "congress_counts_1977 = congress_counts.drop(congress_counts[congress_counts['year'] < 1977].index)\n",
    "by_chamber_counts_1977 = congress_counts_1977.groupby('chamber')\n",
    "house_by_year_counts_1977 = by_chamber_counts_1977.get_group('house').groupby('year')\n",
    "\n",
    "# Get the average term count by year\n",
    "house_avg_counts_1977 = house_by_year_counts_1977['term_count'].mean()\n",
    "\n",
    "# Plot term count data\n",
    "plt.figure(figsize=(12, 6))\n",
    "sns.regplot(x=house_avg_counts_1977.index.values, y=house_avg_counts_1977.values)\n",
    "plt.title('Average Term Counts Over Time')\n",
    "plt.xlabel('Year')\n",
    "plt.ylabel('Life Expectancy Ratio')\n",
    "plt.legend(['House'])\n",
    "plt.show()"
   ]
  },
  {
   "cell_type": "code",
   "execution_count": 29,
   "metadata": {},
   "outputs": [
    {
     "name": "stdout",
     "output_type": "stream",
     "text": [
      "House R^2: 0.4341\n",
      "House Slope: 0.0291\n"
     ]
    }
   ],
   "source": [
    "lm_terms = stats.linregress(house_avg_counts_1977.index.values, house_avg_counts_1977.values)\n",
    "\n",
    "print(\"House R^2: {:.4f}\".format(lm_terms[2]**2))\n",
    "print(\"House Slope: {:.4f}\".format(lm_terms[0]))"
   ]
  },
  {
   "cell_type": "markdown",
   "metadata": {},
   "source": [
    "This data is pretty noisy and that trendline doesn't look like it fits very well which doesn't bode well for us. But the way the term count data is laid out looks earily familiar. Looking back up, it seems to follow almost the exact same pattern as Congress's age data (compensated for life expectancy) over time. Let's look at that plot again."
   ]
  },
  {
   "cell_type": "code",
   "execution_count": 30,
   "metadata": {},
   "outputs": [
    {
     "data": {
      "image/png": "[encoded data removed]",
      "text/plain": [
       "<Figure size 864x432 with 1 Axes>"
      ]
     },
     "metadata": {
      "needs_background": "light"
     },
     "output_type": "display_data"
    }
   ],
   "source": [
    "# Plot life expectancy data\n",
    "plt.figure(figsize=(12, 6))\n",
    "sns.regplot(x=house_life_exp_1977.index.values, y=house_life_exp_1977.values)\n",
    "plt.title('Average Life Expectancy Ratio of Congress Over Time')\n",
    "plt.xlabel('Year')\n",
    "plt.ylabel('Life Expectancy Ratio')\n",
    "plt.legend(['House'])\n",
    "plt.show()"
   ]
  },
  {
   "cell_type": "markdown",
   "metadata": {},
   "source": [
    "Replotting the Congressional age data confirms our suspicions that the two datasets follow the same trend! Let's test our intuition with a quick regression test. Here we use <a href=\"https://docs.scipy.org/doc/scipy-0.14.0/reference/generated/scipy.stats.pearsonr.html\">scipy's implementation of the Pearson Test</a> which returns the <a href=\"https://www.statisticshowto.datasciencecentral.com/probability-and-statistics/correlation-coefficient-formula/\">correlation coefficient</a> between two datasets and the p-value for a null hypothesis that the correlation coefficient is spurious."
   ]
  },
  {
   "cell_type": "code",
   "execution_count": 31,
   "metadata": {},
   "outputs": [
    {
     "name": "stdout",
     "output_type": "stream",
     "text": [
      "House age data (compensated for life expectancy) vs house term count correlation coefficient: 0.8841\n",
      "P-value for the above relationship: 5.13668156585113e-07\n"
     ]
    }
   ],
   "source": [
    "# Perform the test and print out the values\n",
    "r, p_val = stats.pearsonr(house_avg_counts_1977, house_life_exp_1977)\n",
    "print('House age data (compensated for life expectancy) vs house term count correlation coefficient: {:.4f}'\n",
    "      .format(r))\n",
    "print('P-value for the above relationship: {}'\n",
    "      .format(p_val))"
   ]
  },
  {
   "cell_type": "markdown",
   "metadata": {},
   "source": [
    "That is a very high correlation coefficient! It's not a perfect linear relationship, but at about .9 it is a very good fit. The p-value confirms that the similarity between the two datasets is not random.\n",
    "\n",
    "As we know, correlation is not the same as causation, but this high correlation certainly suggests that term counts and the age of the House is strongly linked. Accordingly, it is highly likely that our hypothesis is true and that the increase in term counts is at least part of the culprit behind the increasing age of Congress!\n",
    "\n",
    "### 5.2 Re-Election of Incumbents\n",
    "\n",
    "Though we have shown that term counts and the age of Congress are highly correlated, we are not totally satisfied. Maybe there is another reason behind the increase that we can quantify with this dataset, so let's check it out. \n",
    "\n",
    "Another interesting possible explanation for why Congress's age is increasing is the re-election of incumbents, so let's check it out."
   ]
  },
  {
   "cell_type": "code",
   "execution_count": 32,
   "metadata": {},
   "outputs": [
    {
     "data": {
      "image/png": "[encoded data removed]",
      "text/plain": [
       "<Figure size 1080x720 with 1 Axes>"
      ]
     },
     "metadata": {
      "needs_background": "light"
     },
     "output_type": "display_data"
    },
    {
     "data": {
      "image/png": "[encoded data removed]",
      "text/plain": [
       "<Figure size 1080x720 with 1 Axes>"
      ]
     },
     "metadata": {
      "needs_background": "light"
     },
     "output_type": "display_data"
    }
   ],
   "source": [
    "# Retrieve the house and senate data\n",
    "house_1977 = by_chamber_1977.get_group('house')\n",
    "senate_1977 = by_chamber_1977.get_group('senate')\n",
    "\n",
    "# Use seaborn and matplotlib to create a countplot for the house\n",
    "plt.figure(figsize=(15,10))\n",
    "sns.countplot(y='incumbent', hue='year', data=house_1977)\n",
    "plt.title('Count of Incumbents vs. Non-Incumbents in the House Over Time')\n",
    "plt.xlabel('Count')\n",
    "plt.ylabel('Incumbent')\n",
    "plt.show()\n",
    "\n",
    "# Use seaborn and matplotlib to create a countplot for the senate\n",
    "plt.figure(figsize=(15,10))\n",
    "sns.countplot(y='incumbent', hue='year', data=senate_1977)\n",
    "plt.title('Count of Incumbents vs. Non-Incumbents in the Senate Over Time')\n",
    "plt.xlabel('Count')\n",
    "plt.ylabel('Incumbent')\n",
    "plt.show()"
   ]
  },
  {
   "cell_type": "markdown",
   "metadata": {},
   "source": [
    "This data is interesting as it shows the massive percentage of incumbents being re-elected vs. the relatively small amount of newcomers to Congress each year, but in hindsight it doesn't tell us much about our goal that we didn't already learn from the term counts. The count of incumbents in the house each year follows the same distribution as the term counts does. Which makes sense, because whenever an incumbent is re-elected their term count is increased.\n",
    "\n",
    "That being said, it does lead to another possible explanation for why the age of Congress is increasing. We've already looked at how aging incumbents adds to the age of Congress (and they seem to make up a large majority of this contribution based on the graph above), but what do the newcomers (non-incumbents) add to the age? Are the non-incumbents we elect getting younger or older or staying about the same over time? Let's take a look."
   ]
  },
  {
   "cell_type": "markdown",
   "metadata": {},
   "source": [
    "### 5.3 Age of Non-Incumbents Increasing?\n",
    "\n",
    "Now we want to check if the age of the non-incumbents is increasing over time in the House and the Senate. Like before, let's get our data, visualize it, fit a model, and perform some hypothesis testing."
   ]
  },
  {
   "cell_type": "code",
   "execution_count": 33,
   "metadata": {},
   "outputs": [
    {
     "data": {
      "image/png": "[encoded data removed]",
      "text/plain": [
       "<Figure size 864x432 with 1 Axes>"
      ]
     },
     "metadata": {
      "needs_background": "light"
     },
     "output_type": "display_data"
    }
   ],
   "source": [
    "# Get the non-incumbents from the house, group them by year, and get their age\n",
    "house_non_incumbent = house_1977.groupby('incumbent').get_group('No')\n",
    "house_non_incumbent_age = house_non_incumbent.groupby('year')['life_exp_ratio'].mean()\n",
    "\n",
    "# Get the non-incumbents from the senate, group them by year, and get their age\n",
    "senate_non_incumbent = senate_1977.groupby('incumbent').get_group('No')\n",
    "senate_non_incumbent_age = senate_non_incumbent.groupby('year')['life_exp_ratio'].mean()\n",
    "\n",
    "# Retrieve the data from the dataframes\n",
    "x_hs = house_non_incumbent_age.index.values\n",
    "y_hs = house_non_incumbent_age.values\n",
    "x_sen = senate_non_incumbent_age.index.values\n",
    "y_sen = senate_non_incumbent_age.values\n",
    "\n",
    "# Use matplotlib and seaborn to plot the data\n",
    "plt.figure(figsize=(12, 6))\n",
    "sns.regplot(x=x_hs, y=y_hs)\n",
    "sns.regplot(x=x_sen, y=y_sen)\n",
    "plt.title('Age of Non-Incumbents Over Time')\n",
    "plt.xlabel('Year')\n",
    "plt.ylabel('Life Expectancy Ratio')\n",
    "plt.legend(['House', 'Senate'])\n",
    "plt.show()"
   ]
  },
  {
   "cell_type": "markdown",
   "metadata": {},
   "source": [
    "The Senate data is very noisy, but the House is not as bad and it seems like the age in the House is increasing slowly. Let's check with a linear model."
   ]
  },
  {
   "cell_type": "code",
   "execution_count": 34,
   "metadata": {},
   "outputs": [
    {
     "name": "stdout",
     "output_type": "stream",
     "text": [
      "House R^2 Value: 0.7038\n",
      "House P-Value: 7.172970937799799e-06\n",
      "\n",
      "Senate R^2 Value: 0.0729\n",
      "Senate P-Value: 0.2637\n"
     ]
    }
   ],
   "source": [
    "# Fit the models\n",
    "house_model = stats.linregress(x_hs, y_hs)\n",
    "senate_model = stats.linregress(x_sen, y_sen)\n",
    "\n",
    "# Check the R^2 and p-values\n",
    "print('House R^2 Value: {:.4f}'.format(house_model[2]**2))\n",
    "print('House P-Value: {}\\n'.format(house_model[3]))\n",
    "\n",
    "print('Senate R^2 Value: {:.4f}'.format(senate_model[2]**2))\n",
    "print('Senate P-Value: {:.4f}'.format(senate_model[3]))"
   ]
  },
  {
   "cell_type": "markdown",
   "metadata": {},
   "source": [
    "Looking at the models, it seems like we don't have a very good fit for the Senate cannot reject the null hypothesis of zero slope. So it looks like the age of non-incumbents is not increasing significantly over time in the Senate.\n",
    "\n",
    "However, in the House we have a pretty good fit of .7, showing that our model is relatively well fitted. The p-value also suggests that the fit is good and we can reject the null hypothesis of no slope. Though the fit is not perfect, we have some decent evidence to suggest that the age of non-incumbents in the House has increased significantly over time."
   ]
  },
  {
   "cell_type": "markdown",
   "metadata": {},
   "source": [
    "## 6. Conclusion"
   ]
  },
  {
   "cell_type": "markdown",
   "metadata": {},
   "source": [
    "From our analysis we were able to learn a lot about the age composition of Congress and possible reasons as to why there are disparities between Congress and the rest of the US industries. We found that on average both chambers of Congress are significantly older any other US industry. While this result is likely not surprising to most people, the extent to which they are older may be. Congress is an extreme outlier from an age perspective.\n",
    "\n",
    "Furthermore, though Congress is older than most other industries, it is still getting older. This is likely due to a variety of things including the age requirements for Congress (25 for the House and 30 for the Senate), but we found the Congressmembers are, on average, serving more terms than 30 years ago and newcomers to Congress are getting older. Both of these increase the age of Congress and increase the gap between Congress and the rest of the industry.\n",
    "\n",
    "Now, there is not intrinsic problem with having an older governing body. Some may think that more experience with age is good! This is likely true, but in such a dynamic and changing time both socially and technologically having the right background and experience is important too. And as we discussed in the intro, older people *usually* have very different levels of experience with computers and technology than younger people. So maybe in a world that is increasingly powered by computers a little more age diversity (among other diversity) could help push our country forward.\n",
    "\n",
    "I hope this article has shed a little bit more light on the US Congress and motivated a few more people to learn about our government. If you agree that it could be improved I encourage you to take action and participate in the election process. Vote for people you believe have the knowledge and power to change the country for the better and if you can't find that person on the ballot, maybe run for office yourself!\n",
    "\n",
    "---\n",
    "\n",
    "Thanks for reading! Please let me know if you have any comments or critiques!\n",
    "\n",
    "---\n",
    "        \n",
    "## Data Sources\n",
    "\n",
    "Congressional Age: https://github.com/fivethirtyeight/data/tree/master/congress-age\n",
    "\n",
    "Industry Data: https://www.bls.gov/cps/demographics.htm#age\n",
    "\n",
    "Life Expectancy Data: https://catalog.data.gov/dataset/age-adjusted-death-rates-and-life-expectancy-at-birth-all-races-both-sexes-united-sta-1900"
   ]
  },
  {
   "cell_type": "code",
   "execution_count": null,
   "metadata": {},
   "outputs": [],
   "source": []
  }
 ],
 "metadata": {
  "kernelspec": {
   "display_name": "Python 3",
   "language": "python",
   "name": "python3"
  },
  "language_info": {
   "codemirror_mode": {
    "name": "ipython",
    "version": 3
   },
   "file_extension": ".py",
   "mimetype": "text/x-python",
   "name": "python",
   "nbconvert_exporter": "python",
   "pygments_lexer": "ipython3",
   "version": "3.6.6"
  }
 },
 "nbformat": 4,
 "nbformat_minor": 2
}
